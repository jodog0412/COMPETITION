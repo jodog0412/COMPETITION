{
  "nbformat": 4,
  "nbformat_minor": 0,
  "metadata": {
    "colab": {
      "name": "탄소중립을 위한 기후기술 정보 시각화.ipynb",
      "provenance": [],
      "collapsed_sections": [],
      "toc_visible": true
    },
    "kernelspec": {
      "name": "python3",
      "display_name": "Python 3"
    },
    "language_info": {
      "name": "python"
    }
  },
  "cells": [
    {
      "cell_type": "markdown",
      "source": [
        "# 우리가 유산균과 다른 점"
      ],
      "metadata": {
        "id": "D3u-UqacXSxG"
      }
    },
    {
      "cell_type": "markdown",
      "source": [
        "대회 정보\n",
        "\n",
        "- 대회명: 탄소중립을 위한 기후기술 정보 시각화 경진대회\n",
        "- 목적: 기후기술과 관련하여 다양한 정보를 수집하고 이를 효과적으로 시각화\n",
        "- 기한 ~2022.07.10.\n",
        "- 주최: 녹색기술센터(GTC)\n",
        "- 주관: 데이콘\n",
        "- 사용 가능 툴: Python, R, Tableau\n",
        "- 게시물 형식: .ipynb(20MB를 초과할 수 없음)"
      ],
      "metadata": {
        "id": "aCK1yyUrHCUN"
      }
    },
    {
      "cell_type": "code",
      "source": [
        "# 데이터 처리\n",
        "import pandas as pd\n",
        "import numpy as np"
      ],
      "metadata": {
        "id": "wHLojuP2Kfx9"
      },
      "execution_count": 1,
      "outputs": []
    },
    {
      "cell_type": "code",
      "source": [
        "# 그래프 가져오기\n",
        "from IPython.display import IFrame"
      ],
      "metadata": {
        "id": "QQP_DaAXJLTu"
      },
      "execution_count": 2,
      "outputs": []
    },
    {
      "cell_type": "code",
      "source": [
        "# data 가져오기\n",
        "# 데이터 조회는 https://drive.google.com/drive/folders/1-uslVoCjSCWo0b-92oiYtiit0mI3pCkK?usp=sharing\n",
        "from google.colab import drive\n",
        "drive.mount('/content/drive')"
      ],
      "metadata": {
        "colab": {
          "base_uri": "https://localhost:8080/"
        },
        "id": "6IefQAovM1wD",
        "outputId": "0d6a398b-f735-41f4-ea2b-83a579f4e064"
      },
      "execution_count": 3,
      "outputs": [
        {
          "output_type": "stream",
          "name": "stdout",
          "text": [
            "Drive already mounted at /content/drive; to attempt to forcibly remount, call drive.mount(\"/content/drive\", force_remount=True).\n"
          ]
        }
      ]
    },
    {
      "cell_type": "markdown",
      "source": [
        "## 목차\n",
        "0. 서론\n",
        "1. 현재의 지구온난화 위치\n",
        "2. 기후기술의 정의, CTIS에 의한 기후기술 분류\n",
        "3. 한국의 기후기술\n",
        "\n",
        "  3-1. 기후기술 부문별, 기업규모별 매출액\n",
        "\n",
        "  3-2. 기후기술 부문별, 기업규모별 종사자수\n",
        "\n",
        "  3-3. 기후기술 부문별, 기업규모별 연구개발비 현황\n",
        "\n",
        "  3-4. 기후기술 영역별 정부지원 사업 수혜 여부 및 정책수단 종류(복수응답)\n",
        "  \n",
        "  3-5. 기후기술 영역별 기술수명주기 단계/ 누적 특허건 수\n",
        "\n",
        "  3-6. 기후기술 영역별 기관규모별 연구원 수\n",
        "\n",
        "  3-7. 기후기술 영역별 기관규모별 수출액\n",
        "\n",
        "  3-8. 기후기술 영역별 해외 진출지역\n",
        "\n",
        "  3-9. 기후기술 영역별 국내 해외 기술이전 방식/기후기술 영역별 국내 기술이전 선호항목\n",
        "4. 탄소중립\n",
        "\n",
        "  4-1. 한국, 미국, 중국, 스웨덴의 연간 이산화탄소배출량\n",
        "\n",
        "  4-2. 연간 전년도 대비 co2 배출량 변화\n",
        "\n",
        "  4-3. 한국의 부문별 co2 배출량\n",
        "\n",
        "  4-4. 한국 연료별 CO2 생산량\n",
        "\n",
        "  4-5. 2050 탄소중립 시나리오\n",
        "5. 마치며\n",
        "\n"
      ],
      "metadata": {
        "id": "uN0xNDjZUkaw"
      }
    },
    {
      "cell_type": "markdown",
      "source": [
        "## 0.서론\n",
        "\n",
        "어릴적 유산균에 대한 이야기를 들었다.\n",
        "\n",
        "유산균은 계속해서 산을 생성하기 때문에, 주위의 ph가 낮아지고 자신의 생존에 불리해진다고 했다.\n",
        "\n",
        "당시의 감상은 \"이런 멍청한 생물이 있다니\"정도 였지만 \n",
        "\n",
        "인간의 욕심과 지구온난화에 대한 뉴스를 보면서 우리도 똑같은거 아닌가하는 자책감이 들었다.\n",
        "\n",
        "다행히도 우리는 유산균이 아니고,\n",
        "\n",
        "세계는 지구온난화를 억제하기 위한 노력을 하고 있으며, \n",
        "\n",
        "이 글은 그 노력에 대한 글이다."
      ],
      "metadata": {
        "id": "B22W276WTVBI"
      }
    },
    {
      "cell_type": "markdown",
      "source": [
        "## 1.현재의 지구온난화 위치\n",
        "\n",
        "어떤 노력을 하고 있는지 이야기 하기전에, 우리가 어떤 상황에 처해있는지를 확인해 보자."
      ],
      "metadata": {
        "id": "H3IHt-DDOCjw"
      }
    },
    {
      "cell_type": "markdown",
      "source": [
        "** 기상청 기온분석 전국 년자료**"
      ],
      "metadata": {
        "id": "w18zw4qMWH4p"
      }
    },
    {
      "cell_type": "code",
      "source": [
        "df = pd.read_csv('/content/drive/MyDrive/Colab Notebooks/탄소중립을 위한 기후기술 시각화/data/기상청/기상청_기온분석_전국_년자료.csv', encoding='cp949')\n",
        "df.head()"
      ],
      "metadata": {
        "colab": {
          "base_uri": "https://localhost:8080/",
          "height": 206
        },
        "id": "LeRBh2uSfNka",
        "outputId": "bcf9b7d6-2ca3-4be4-b85d-298aae8276c7"
      },
      "execution_count": 4,
      "outputs": [
        {
          "output_type": "execute_result",
          "data": {
            "text/plain": [
              "      년  지점  평균기온(℃)  최저기온(℃)  최고기온(℃)\n",
              "0  1973  전국     12.3      7.5     17.7\n",
              "1  1974  전국     11.3      6.4     16.8\n",
              "2  1975  전국     12.5      8.0     17.7\n",
              "3  1976  전국     11.5      6.7     17.0\n",
              "4  1977  전국     12.2      7.2     18.0"
            ],
            "text/html": [
              "\n",
              "  <div id=\"df-4b397e65-a0f7-424e-b004-93022d570069\">\n",
              "    <div class=\"colab-df-container\">\n",
              "      <div>\n",
              "<style scoped>\n",
              "    .dataframe tbody tr th:only-of-type {\n",
              "        vertical-align: middle;\n",
              "    }\n",
              "\n",
              "    .dataframe tbody tr th {\n",
              "        vertical-align: top;\n",
              "    }\n",
              "\n",
              "    .dataframe thead th {\n",
              "        text-align: right;\n",
              "    }\n",
              "</style>\n",
              "<table border=\"1\" class=\"dataframe\">\n",
              "  <thead>\n",
              "    <tr style=\"text-align: right;\">\n",
              "      <th></th>\n",
              "      <th>년</th>\n",
              "      <th>지점</th>\n",
              "      <th>평균기온(℃)</th>\n",
              "      <th>최저기온(℃)</th>\n",
              "      <th>최고기온(℃)</th>\n",
              "    </tr>\n",
              "  </thead>\n",
              "  <tbody>\n",
              "    <tr>\n",
              "      <th>0</th>\n",
              "      <td>1973</td>\n",
              "      <td>전국</td>\n",
              "      <td>12.3</td>\n",
              "      <td>7.5</td>\n",
              "      <td>17.7</td>\n",
              "    </tr>\n",
              "    <tr>\n",
              "      <th>1</th>\n",
              "      <td>1974</td>\n",
              "      <td>전국</td>\n",
              "      <td>11.3</td>\n",
              "      <td>6.4</td>\n",
              "      <td>16.8</td>\n",
              "    </tr>\n",
              "    <tr>\n",
              "      <th>2</th>\n",
              "      <td>1975</td>\n",
              "      <td>전국</td>\n",
              "      <td>12.5</td>\n",
              "      <td>8.0</td>\n",
              "      <td>17.7</td>\n",
              "    </tr>\n",
              "    <tr>\n",
              "      <th>3</th>\n",
              "      <td>1976</td>\n",
              "      <td>전국</td>\n",
              "      <td>11.5</td>\n",
              "      <td>6.7</td>\n",
              "      <td>17.0</td>\n",
              "    </tr>\n",
              "    <tr>\n",
              "      <th>4</th>\n",
              "      <td>1977</td>\n",
              "      <td>전국</td>\n",
              "      <td>12.2</td>\n",
              "      <td>7.2</td>\n",
              "      <td>18.0</td>\n",
              "    </tr>\n",
              "  </tbody>\n",
              "</table>\n",
              "</div>\n",
              "      <button class=\"colab-df-convert\" onclick=\"convertToInteractive('df-4b397e65-a0f7-424e-b004-93022d570069')\"\n",
              "              title=\"Convert this dataframe to an interactive table.\"\n",
              "              style=\"display:none;\">\n",
              "        \n",
              "  <svg xmlns=\"http://www.w3.org/2000/svg\" height=\"24px\"viewBox=\"0 0 24 24\"\n",
              "       width=\"24px\">\n",
              "    <path d=\"M0 0h24v24H0V0z\" fill=\"none\"/>\n",
              "    <path d=\"M18.56 5.44l.94 2.06.94-2.06 2.06-.94-2.06-.94-.94-2.06-.94 2.06-2.06.94zm-11 1L8.5 8.5l.94-2.06 2.06-.94-2.06-.94L8.5 2.5l-.94 2.06-2.06.94zm10 10l.94 2.06.94-2.06 2.06-.94-2.06-.94-.94-2.06-.94 2.06-2.06.94z\"/><path d=\"M17.41 7.96l-1.37-1.37c-.4-.4-.92-.59-1.43-.59-.52 0-1.04.2-1.43.59L10.3 9.45l-7.72 7.72c-.78.78-.78 2.05 0 2.83L4 21.41c.39.39.9.59 1.41.59.51 0 1.02-.2 1.41-.59l7.78-7.78 2.81-2.81c.8-.78.8-2.07 0-2.86zM5.41 20L4 18.59l7.72-7.72 1.47 1.35L5.41 20z\"/>\n",
              "  </svg>\n",
              "      </button>\n",
              "      \n",
              "  <style>\n",
              "    .colab-df-container {\n",
              "      display:flex;\n",
              "      flex-wrap:wrap;\n",
              "      gap: 12px;\n",
              "    }\n",
              "\n",
              "    .colab-df-convert {\n",
              "      background-color: #E8F0FE;\n",
              "      border: none;\n",
              "      border-radius: 50%;\n",
              "      cursor: pointer;\n",
              "      display: none;\n",
              "      fill: #1967D2;\n",
              "      height: 32px;\n",
              "      padding: 0 0 0 0;\n",
              "      width: 32px;\n",
              "    }\n",
              "\n",
              "    .colab-df-convert:hover {\n",
              "      background-color: #E2EBFA;\n",
              "      box-shadow: 0px 1px 2px rgba(60, 64, 67, 0.3), 0px 1px 3px 1px rgba(60, 64, 67, 0.15);\n",
              "      fill: #174EA6;\n",
              "    }\n",
              "\n",
              "    [theme=dark] .colab-df-convert {\n",
              "      background-color: #3B4455;\n",
              "      fill: #D2E3FC;\n",
              "    }\n",
              "\n",
              "    [theme=dark] .colab-df-convert:hover {\n",
              "      background-color: #434B5C;\n",
              "      box-shadow: 0px 1px 3px 1px rgba(0, 0, 0, 0.15);\n",
              "      filter: drop-shadow(0px 1px 2px rgba(0, 0, 0, 0.3));\n",
              "      fill: #FFFFFF;\n",
              "    }\n",
              "  </style>\n",
              "\n",
              "      <script>\n",
              "        const buttonEl =\n",
              "          document.querySelector('#df-4b397e65-a0f7-424e-b004-93022d570069 button.colab-df-convert');\n",
              "        buttonEl.style.display =\n",
              "          google.colab.kernel.accessAllowed ? 'block' : 'none';\n",
              "\n",
              "        async function convertToInteractive(key) {\n",
              "          const element = document.querySelector('#df-4b397e65-a0f7-424e-b004-93022d570069');\n",
              "          const dataTable =\n",
              "            await google.colab.kernel.invokeFunction('convertToInteractive',\n",
              "                                                     [key], {});\n",
              "          if (!dataTable) return;\n",
              "\n",
              "          const docLinkHtml = 'Like what you see? Visit the ' +\n",
              "            '<a target=\"_blank\" href=https://colab.research.google.com/notebooks/data_table.ipynb>data table notebook</a>'\n",
              "            + ' to learn more about interactive tables.';\n",
              "          element.innerHTML = '';\n",
              "          dataTable['output_type'] = 'display_data';\n",
              "          await google.colab.output.renderOutput(dataTable, element);\n",
              "          const docLink = document.createElement('div');\n",
              "          docLink.innerHTML = docLinkHtml;\n",
              "          element.appendChild(docLink);\n",
              "        }\n",
              "      </script>\n",
              "    </div>\n",
              "  </div>\n",
              "  "
            ]
          },
          "metadata": {},
          "execution_count": 4
        }
      ]
    },
    {
      "cell_type": "code",
      "source": [
        "df.tail()"
      ],
      "metadata": {
        "colab": {
          "base_uri": "https://localhost:8080/",
          "height": 206
        },
        "id": "_BvL_vIJfy_J",
        "outputId": "d40dcfa5-f622-4652-a1a6-1e0c7713a13e"
      },
      "execution_count": 5,
      "outputs": [
        {
          "output_type": "execute_result",
          "data": {
            "text/plain": [
              "       년  지점  평균기온(℃)  최저기온(℃)  최고기온(℃)\n",
              "44  2017  전국     12.8      7.7     18.5\n",
              "45  2018  전국     12.8      7.8     18.4\n",
              "46  2019  전국     13.3      8.3     19.0\n",
              "47  2020  전국     13.0      8.4     18.4\n",
              "48  2021  전국     13.3      8.6     18.8"
            ],
            "text/html": [
              "\n",
              "  <div id=\"df-e82d1c48-0081-4a73-b44b-4fc8c5edd4aa\">\n",
              "    <div class=\"colab-df-container\">\n",
              "      <div>\n",
              "<style scoped>\n",
              "    .dataframe tbody tr th:only-of-type {\n",
              "        vertical-align: middle;\n",
              "    }\n",
              "\n",
              "    .dataframe tbody tr th {\n",
              "        vertical-align: top;\n",
              "    }\n",
              "\n",
              "    .dataframe thead th {\n",
              "        text-align: right;\n",
              "    }\n",
              "</style>\n",
              "<table border=\"1\" class=\"dataframe\">\n",
              "  <thead>\n",
              "    <tr style=\"text-align: right;\">\n",
              "      <th></th>\n",
              "      <th>년</th>\n",
              "      <th>지점</th>\n",
              "      <th>평균기온(℃)</th>\n",
              "      <th>최저기온(℃)</th>\n",
              "      <th>최고기온(℃)</th>\n",
              "    </tr>\n",
              "  </thead>\n",
              "  <tbody>\n",
              "    <tr>\n",
              "      <th>44</th>\n",
              "      <td>2017</td>\n",
              "      <td>전국</td>\n",
              "      <td>12.8</td>\n",
              "      <td>7.7</td>\n",
              "      <td>18.5</td>\n",
              "    </tr>\n",
              "    <tr>\n",
              "      <th>45</th>\n",
              "      <td>2018</td>\n",
              "      <td>전국</td>\n",
              "      <td>12.8</td>\n",
              "      <td>7.8</td>\n",
              "      <td>18.4</td>\n",
              "    </tr>\n",
              "    <tr>\n",
              "      <th>46</th>\n",
              "      <td>2019</td>\n",
              "      <td>전국</td>\n",
              "      <td>13.3</td>\n",
              "      <td>8.3</td>\n",
              "      <td>19.0</td>\n",
              "    </tr>\n",
              "    <tr>\n",
              "      <th>47</th>\n",
              "      <td>2020</td>\n",
              "      <td>전국</td>\n",
              "      <td>13.0</td>\n",
              "      <td>8.4</td>\n",
              "      <td>18.4</td>\n",
              "    </tr>\n",
              "    <tr>\n",
              "      <th>48</th>\n",
              "      <td>2021</td>\n",
              "      <td>전국</td>\n",
              "      <td>13.3</td>\n",
              "      <td>8.6</td>\n",
              "      <td>18.8</td>\n",
              "    </tr>\n",
              "  </tbody>\n",
              "</table>\n",
              "</div>\n",
              "      <button class=\"colab-df-convert\" onclick=\"convertToInteractive('df-e82d1c48-0081-4a73-b44b-4fc8c5edd4aa')\"\n",
              "              title=\"Convert this dataframe to an interactive table.\"\n",
              "              style=\"display:none;\">\n",
              "        \n",
              "  <svg xmlns=\"http://www.w3.org/2000/svg\" height=\"24px\"viewBox=\"0 0 24 24\"\n",
              "       width=\"24px\">\n",
              "    <path d=\"M0 0h24v24H0V0z\" fill=\"none\"/>\n",
              "    <path d=\"M18.56 5.44l.94 2.06.94-2.06 2.06-.94-2.06-.94-.94-2.06-.94 2.06-2.06.94zm-11 1L8.5 8.5l.94-2.06 2.06-.94-2.06-.94L8.5 2.5l-.94 2.06-2.06.94zm10 10l.94 2.06.94-2.06 2.06-.94-2.06-.94-.94-2.06-.94 2.06-2.06.94z\"/><path d=\"M17.41 7.96l-1.37-1.37c-.4-.4-.92-.59-1.43-.59-.52 0-1.04.2-1.43.59L10.3 9.45l-7.72 7.72c-.78.78-.78 2.05 0 2.83L4 21.41c.39.39.9.59 1.41.59.51 0 1.02-.2 1.41-.59l7.78-7.78 2.81-2.81c.8-.78.8-2.07 0-2.86zM5.41 20L4 18.59l7.72-7.72 1.47 1.35L5.41 20z\"/>\n",
              "  </svg>\n",
              "      </button>\n",
              "      \n",
              "  <style>\n",
              "    .colab-df-container {\n",
              "      display:flex;\n",
              "      flex-wrap:wrap;\n",
              "      gap: 12px;\n",
              "    }\n",
              "\n",
              "    .colab-df-convert {\n",
              "      background-color: #E8F0FE;\n",
              "      border: none;\n",
              "      border-radius: 50%;\n",
              "      cursor: pointer;\n",
              "      display: none;\n",
              "      fill: #1967D2;\n",
              "      height: 32px;\n",
              "      padding: 0 0 0 0;\n",
              "      width: 32px;\n",
              "    }\n",
              "\n",
              "    .colab-df-convert:hover {\n",
              "      background-color: #E2EBFA;\n",
              "      box-shadow: 0px 1px 2px rgba(60, 64, 67, 0.3), 0px 1px 3px 1px rgba(60, 64, 67, 0.15);\n",
              "      fill: #174EA6;\n",
              "    }\n",
              "\n",
              "    [theme=dark] .colab-df-convert {\n",
              "      background-color: #3B4455;\n",
              "      fill: #D2E3FC;\n",
              "    }\n",
              "\n",
              "    [theme=dark] .colab-df-convert:hover {\n",
              "      background-color: #434B5C;\n",
              "      box-shadow: 0px 1px 3px 1px rgba(0, 0, 0, 0.15);\n",
              "      filter: drop-shadow(0px 1px 2px rgba(0, 0, 0, 0.3));\n",
              "      fill: #FFFFFF;\n",
              "    }\n",
              "  </style>\n",
              "\n",
              "      <script>\n",
              "        const buttonEl =\n",
              "          document.querySelector('#df-e82d1c48-0081-4a73-b44b-4fc8c5edd4aa button.colab-df-convert');\n",
              "        buttonEl.style.display =\n",
              "          google.colab.kernel.accessAllowed ? 'block' : 'none';\n",
              "\n",
              "        async function convertToInteractive(key) {\n",
              "          const element = document.querySelector('#df-e82d1c48-0081-4a73-b44b-4fc8c5edd4aa');\n",
              "          const dataTable =\n",
              "            await google.colab.kernel.invokeFunction('convertToInteractive',\n",
              "                                                     [key], {});\n",
              "          if (!dataTable) return;\n",
              "\n",
              "          const docLinkHtml = 'Like what you see? Visit the ' +\n",
              "            '<a target=\"_blank\" href=https://colab.research.google.com/notebooks/data_table.ipynb>data table notebook</a>'\n",
              "            + ' to learn more about interactive tables.';\n",
              "          element.innerHTML = '';\n",
              "          dataTable['output_type'] = 'display_data';\n",
              "          await google.colab.output.renderOutput(dataTable, element);\n",
              "          const docLink = document.createElement('div');\n",
              "          docLink.innerHTML = docLinkHtml;\n",
              "          element.appendChild(docLink);\n",
              "        }\n",
              "      </script>\n",
              "    </div>\n",
              "  </div>\n",
              "  "
            ]
          },
          "metadata": {},
          "execution_count": 5
        }
      ]
    },
    {
      "cell_type": "code",
      "source": [
        "IFrame(src='https://boogleboogle.github.io/html/%EA%B8%B0%EC%83%81%EC%B2%AD_%EA%B8%B0%EC%98%A8%EB%B6%84%EC%84%9D_%EC%A0%84%EA%B5%AD_%EB%85%84%EC%9E%90%EB%A3%8C',  width=1000, height=600)"
      ],
      "metadata": {
        "id": "k3-Lwm5PWkcA",
        "colab": {
          "base_uri": "https://localhost:8080/",
          "height": 621
        },
        "outputId": "464e4f53-4ef8-43f1-ec20-016d4033b58d"
      },
      "execution_count": 6,
      "outputs": [
        {
          "output_type": "execute_result",
          "data": {
            "text/plain": [
              "<IPython.lib.display.IFrame at 0x7f0747bb6710>"
            ],
            "text/html": [
              "\n",
              "        <iframe\n",
              "            width=\"1000\"\n",
              "            height=\"600\"\n",
              "            src=\"https://boogleboogle.github.io/html/%EA%B8%B0%EC%83%81%EC%B2%AD_%EA%B8%B0%EC%98%A8%EB%B6%84%EC%84%9D_%EC%A0%84%EA%B5%AD_%EB%85%84%EC%9E%90%EB%A3%8C\"\n",
              "            frameborder=\"0\"\n",
              "            allowfullscreen\n",
              "        ></iframe>\n",
              "        "
            ]
          },
          "metadata": {},
          "execution_count": 6
        }
      ]
    },
    {
      "cell_type": "markdown",
      "source": [
        "위 그래프는 기상청에서 측정한 1973년부터 2021년까지의 연 평균기온, 최고기온, 최저기온과, 이에 추세선을 넣은 것이다.\n",
        "\n",
        "그래프에 마우스를 올리면 자세한 수치를 확인 할 수 있다.\n",
        "\n",
        "1973년부터 2021년까지 평균기온은 1도, 최고기온과 최저기온은 1.1도씩 상승한 것을 볼 수 있다. \n",
        "\n",
        "평균기온 12.3도와 13.3도는 크게 차이나지 않는 듯 보인다.\n",
        "세계는 어떨까?"
      ],
      "metadata": {
        "id": "tTL26S6BfJux"
      }
    },
    {
      "cell_type": "markdown",
      "source": [
        "**전 세계 월별 평균 육지 해양 온도 지수**"
      ],
      "metadata": {
        "id": "aVP37ZAES-T8"
      }
    },
    {
      "cell_type": "code",
      "source": [
        "df = pd.read_csv('/content/drive/MyDrive/Colab Notebooks/탄소중립을 위한 기후기술 시각화/data/daatagissnasagov/전 세계 평균 월별, 계절별 및 연간 평균.csv', encoding='cp949')\n",
        "df.head()"
      ],
      "metadata": {
        "colab": {
          "base_uri": "https://localhost:8080/",
          "height": 206
        },
        "id": "O2Zxg0ifLK4p",
        "outputId": "5c861e80-1731-48a1-e269-fc2e7e3687b4"
      },
      "execution_count": 7,
      "outputs": [
        {
          "output_type": "execute_result",
          "data": {
            "text/plain": [
              "   Year   Jan   Feb   Mar   Apr   May   Jun   Jul   Aug   Sep   Oct   Nov  \\\n",
              "0  1881 -0.20 -0.14  0.03  0.05  0.06 -0.19  0.00 -0.03 -0.15 -0.22 -0.18   \n",
              "1  1882  0.16  0.14  0.04 -0.16 -0.14 -0.22 -0.16 -0.08 -0.15 -0.23 -0.17   \n",
              "2  1883 -0.29 -0.37 -0.12 -0.19 -0.18 -0.07 -0.07 -0.14 -0.22 -0.11 -0.24   \n",
              "3  1884 -0.13 -0.08 -0.36 -0.40 -0.33 -0.35 -0.33 -0.28 -0.27 -0.25 -0.33   \n",
              "4  1885 -0.58 -0.33 -0.26 -0.42 -0.45 -0.43 -0.33 -0.31 -0.29 -0.23 -0.24   \n",
              "\n",
              "    Dec   J-D   D-N   DJF   MAM   JJA   SON  \n",
              "0 -0.07 -0.09 -0.10 -0.17  0.05 -0.07 -0.18  \n",
              "1 -0.36 -0.11 -0.09  0.08 -0.08 -0.15 -0.18  \n",
              "2 -0.11 -0.18 -0.20 -0.34 -0.16 -0.09 -0.19  \n",
              "3 -0.31 -0.28 -0.27 -0.11 -0.37 -0.32 -0.28  \n",
              "4 -0.10 -0.33 -0.35 -0.41 -0.38 -0.36 -0.25  "
            ],
            "text/html": [
              "\n",
              "  <div id=\"df-ad7c822f-a2c6-4173-b70f-a763aa4f8f1c\">\n",
              "    <div class=\"colab-df-container\">\n",
              "      <div>\n",
              "<style scoped>\n",
              "    .dataframe tbody tr th:only-of-type {\n",
              "        vertical-align: middle;\n",
              "    }\n",
              "\n",
              "    .dataframe tbody tr th {\n",
              "        vertical-align: top;\n",
              "    }\n",
              "\n",
              "    .dataframe thead th {\n",
              "        text-align: right;\n",
              "    }\n",
              "</style>\n",
              "<table border=\"1\" class=\"dataframe\">\n",
              "  <thead>\n",
              "    <tr style=\"text-align: right;\">\n",
              "      <th></th>\n",
              "      <th>Year</th>\n",
              "      <th>Jan</th>\n",
              "      <th>Feb</th>\n",
              "      <th>Mar</th>\n",
              "      <th>Apr</th>\n",
              "      <th>May</th>\n",
              "      <th>Jun</th>\n",
              "      <th>Jul</th>\n",
              "      <th>Aug</th>\n",
              "      <th>Sep</th>\n",
              "      <th>Oct</th>\n",
              "      <th>Nov</th>\n",
              "      <th>Dec</th>\n",
              "      <th>J-D</th>\n",
              "      <th>D-N</th>\n",
              "      <th>DJF</th>\n",
              "      <th>MAM</th>\n",
              "      <th>JJA</th>\n",
              "      <th>SON</th>\n",
              "    </tr>\n",
              "  </thead>\n",
              "  <tbody>\n",
              "    <tr>\n",
              "      <th>0</th>\n",
              "      <td>1881</td>\n",
              "      <td>-0.20</td>\n",
              "      <td>-0.14</td>\n",
              "      <td>0.03</td>\n",
              "      <td>0.05</td>\n",
              "      <td>0.06</td>\n",
              "      <td>-0.19</td>\n",
              "      <td>0.00</td>\n",
              "      <td>-0.03</td>\n",
              "      <td>-0.15</td>\n",
              "      <td>-0.22</td>\n",
              "      <td>-0.18</td>\n",
              "      <td>-0.07</td>\n",
              "      <td>-0.09</td>\n",
              "      <td>-0.10</td>\n",
              "      <td>-0.17</td>\n",
              "      <td>0.05</td>\n",
              "      <td>-0.07</td>\n",
              "      <td>-0.18</td>\n",
              "    </tr>\n",
              "    <tr>\n",
              "      <th>1</th>\n",
              "      <td>1882</td>\n",
              "      <td>0.16</td>\n",
              "      <td>0.14</td>\n",
              "      <td>0.04</td>\n",
              "      <td>-0.16</td>\n",
              "      <td>-0.14</td>\n",
              "      <td>-0.22</td>\n",
              "      <td>-0.16</td>\n",
              "      <td>-0.08</td>\n",
              "      <td>-0.15</td>\n",
              "      <td>-0.23</td>\n",
              "      <td>-0.17</td>\n",
              "      <td>-0.36</td>\n",
              "      <td>-0.11</td>\n",
              "      <td>-0.09</td>\n",
              "      <td>0.08</td>\n",
              "      <td>-0.08</td>\n",
              "      <td>-0.15</td>\n",
              "      <td>-0.18</td>\n",
              "    </tr>\n",
              "    <tr>\n",
              "      <th>2</th>\n",
              "      <td>1883</td>\n",
              "      <td>-0.29</td>\n",
              "      <td>-0.37</td>\n",
              "      <td>-0.12</td>\n",
              "      <td>-0.19</td>\n",
              "      <td>-0.18</td>\n",
              "      <td>-0.07</td>\n",
              "      <td>-0.07</td>\n",
              "      <td>-0.14</td>\n",
              "      <td>-0.22</td>\n",
              "      <td>-0.11</td>\n",
              "      <td>-0.24</td>\n",
              "      <td>-0.11</td>\n",
              "      <td>-0.18</td>\n",
              "      <td>-0.20</td>\n",
              "      <td>-0.34</td>\n",
              "      <td>-0.16</td>\n",
              "      <td>-0.09</td>\n",
              "      <td>-0.19</td>\n",
              "    </tr>\n",
              "    <tr>\n",
              "      <th>3</th>\n",
              "      <td>1884</td>\n",
              "      <td>-0.13</td>\n",
              "      <td>-0.08</td>\n",
              "      <td>-0.36</td>\n",
              "      <td>-0.40</td>\n",
              "      <td>-0.33</td>\n",
              "      <td>-0.35</td>\n",
              "      <td>-0.33</td>\n",
              "      <td>-0.28</td>\n",
              "      <td>-0.27</td>\n",
              "      <td>-0.25</td>\n",
              "      <td>-0.33</td>\n",
              "      <td>-0.31</td>\n",
              "      <td>-0.28</td>\n",
              "      <td>-0.27</td>\n",
              "      <td>-0.11</td>\n",
              "      <td>-0.37</td>\n",
              "      <td>-0.32</td>\n",
              "      <td>-0.28</td>\n",
              "    </tr>\n",
              "    <tr>\n",
              "      <th>4</th>\n",
              "      <td>1885</td>\n",
              "      <td>-0.58</td>\n",
              "      <td>-0.33</td>\n",
              "      <td>-0.26</td>\n",
              "      <td>-0.42</td>\n",
              "      <td>-0.45</td>\n",
              "      <td>-0.43</td>\n",
              "      <td>-0.33</td>\n",
              "      <td>-0.31</td>\n",
              "      <td>-0.29</td>\n",
              "      <td>-0.23</td>\n",
              "      <td>-0.24</td>\n",
              "      <td>-0.10</td>\n",
              "      <td>-0.33</td>\n",
              "      <td>-0.35</td>\n",
              "      <td>-0.41</td>\n",
              "      <td>-0.38</td>\n",
              "      <td>-0.36</td>\n",
              "      <td>-0.25</td>\n",
              "    </tr>\n",
              "  </tbody>\n",
              "</table>\n",
              "</div>\n",
              "      <button class=\"colab-df-convert\" onclick=\"convertToInteractive('df-ad7c822f-a2c6-4173-b70f-a763aa4f8f1c')\"\n",
              "              title=\"Convert this dataframe to an interactive table.\"\n",
              "              style=\"display:none;\">\n",
              "        \n",
              "  <svg xmlns=\"http://www.w3.org/2000/svg\" height=\"24px\"viewBox=\"0 0 24 24\"\n",
              "       width=\"24px\">\n",
              "    <path d=\"M0 0h24v24H0V0z\" fill=\"none\"/>\n",
              "    <path d=\"M18.56 5.44l.94 2.06.94-2.06 2.06-.94-2.06-.94-.94-2.06-.94 2.06-2.06.94zm-11 1L8.5 8.5l.94-2.06 2.06-.94-2.06-.94L8.5 2.5l-.94 2.06-2.06.94zm10 10l.94 2.06.94-2.06 2.06-.94-2.06-.94-.94-2.06-.94 2.06-2.06.94z\"/><path d=\"M17.41 7.96l-1.37-1.37c-.4-.4-.92-.59-1.43-.59-.52 0-1.04.2-1.43.59L10.3 9.45l-7.72 7.72c-.78.78-.78 2.05 0 2.83L4 21.41c.39.39.9.59 1.41.59.51 0 1.02-.2 1.41-.59l7.78-7.78 2.81-2.81c.8-.78.8-2.07 0-2.86zM5.41 20L4 18.59l7.72-7.72 1.47 1.35L5.41 20z\"/>\n",
              "  </svg>\n",
              "      </button>\n",
              "      \n",
              "  <style>\n",
              "    .colab-df-container {\n",
              "      display:flex;\n",
              "      flex-wrap:wrap;\n",
              "      gap: 12px;\n",
              "    }\n",
              "\n",
              "    .colab-df-convert {\n",
              "      background-color: #E8F0FE;\n",
              "      border: none;\n",
              "      border-radius: 50%;\n",
              "      cursor: pointer;\n",
              "      display: none;\n",
              "      fill: #1967D2;\n",
              "      height: 32px;\n",
              "      padding: 0 0 0 0;\n",
              "      width: 32px;\n",
              "    }\n",
              "\n",
              "    .colab-df-convert:hover {\n",
              "      background-color: #E2EBFA;\n",
              "      box-shadow: 0px 1px 2px rgba(60, 64, 67, 0.3), 0px 1px 3px 1px rgba(60, 64, 67, 0.15);\n",
              "      fill: #174EA6;\n",
              "    }\n",
              "\n",
              "    [theme=dark] .colab-df-convert {\n",
              "      background-color: #3B4455;\n",
              "      fill: #D2E3FC;\n",
              "    }\n",
              "\n",
              "    [theme=dark] .colab-df-convert:hover {\n",
              "      background-color: #434B5C;\n",
              "      box-shadow: 0px 1px 3px 1px rgba(0, 0, 0, 0.15);\n",
              "      filter: drop-shadow(0px 1px 2px rgba(0, 0, 0, 0.3));\n",
              "      fill: #FFFFFF;\n",
              "    }\n",
              "  </style>\n",
              "\n",
              "      <script>\n",
              "        const buttonEl =\n",
              "          document.querySelector('#df-ad7c822f-a2c6-4173-b70f-a763aa4f8f1c button.colab-df-convert');\n",
              "        buttonEl.style.display =\n",
              "          google.colab.kernel.accessAllowed ? 'block' : 'none';\n",
              "\n",
              "        async function convertToInteractive(key) {\n",
              "          const element = document.querySelector('#df-ad7c822f-a2c6-4173-b70f-a763aa4f8f1c');\n",
              "          const dataTable =\n",
              "            await google.colab.kernel.invokeFunction('convertToInteractive',\n",
              "                                                     [key], {});\n",
              "          if (!dataTable) return;\n",
              "\n",
              "          const docLinkHtml = 'Like what you see? Visit the ' +\n",
              "            '<a target=\"_blank\" href=https://colab.research.google.com/notebooks/data_table.ipynb>data table notebook</a>'\n",
              "            + ' to learn more about interactive tables.';\n",
              "          element.innerHTML = '';\n",
              "          dataTable['output_type'] = 'display_data';\n",
              "          await google.colab.output.renderOutput(dataTable, element);\n",
              "          const docLink = document.createElement('div');\n",
              "          docLink.innerHTML = docLinkHtml;\n",
              "          element.appendChild(docLink);\n",
              "        }\n",
              "      </script>\n",
              "    </div>\n",
              "  </div>\n",
              "  "
            ]
          },
          "metadata": {},
          "execution_count": 7
        }
      ]
    },
    {
      "cell_type": "code",
      "source": [
        "IFrame(src='https://boogleboogle.github.io/html/nasa_%EC%A0%84_%EC%84%B8%EA%B3%84_%EC%9B%94%EB%B3%84_%ED%8F%89%EA%B7%A0_%EC%9C%A1%EC%A7%80_%ED%95%B4%EC%96%91_%EC%98%A8%EB%8F%84_%EC%A7%80%EC%88%98',  width=1000, height=600)"
      ],
      "metadata": {
        "colab": {
          "base_uri": "https://localhost:8080/",
          "height": 621
        },
        "id": "dmAeMxzUStuq",
        "outputId": "400557df-25c2-4192-d418-cbe259404be0"
      },
      "execution_count": 8,
      "outputs": [
        {
          "output_type": "execute_result",
          "data": {
            "text/plain": [
              "<IPython.lib.display.IFrame at 0x7f07513de8d0>"
            ],
            "text/html": [
              "\n",
              "        <iframe\n",
              "            width=\"1000\"\n",
              "            height=\"600\"\n",
              "            src=\"https://boogleboogle.github.io/html/nasa_%EC%A0%84_%EC%84%B8%EA%B3%84_%EC%9B%94%EB%B3%84_%ED%8F%89%EA%B7%A0_%EC%9C%A1%EC%A7%80_%ED%95%B4%EC%96%91_%EC%98%A8%EB%8F%84_%EC%A7%80%EC%88%98\"\n",
              "            frameborder=\"0\"\n",
              "            allowfullscreen\n",
              "        ></iframe>\n",
              "        "
            ]
          },
          "metadata": {},
          "execution_count": 8
        }
      ]
    },
    {
      "cell_type": "markdown",
      "source": [
        "위의 그래프는 nasa의 giss에서 가져온 전세계평균 대륙-해양 온도지수(LOTI, Land-Ocean Temperature Index)를 그래프로 그린 것이다.\n",
        "(https://data.giss.nasa.gov/gistemp/)\n",
        "\n",
        "1881년부터 2021년까지, 월별로 나타낸 것이다.\n",
        "\n",
        "이를 간결하게 만들어 보자.\n",
        "\n",
        "\n"
      ],
      "metadata": {
        "id": "EeRLhl-x-Wwo"
      }
    },
    {
      "cell_type": "markdown",
      "source": [
        "**전 세계 계절별 평균 육지 해양 온도 지수**"
      ],
      "metadata": {
        "id": "wLYPAzFLTBFi"
      }
    },
    {
      "cell_type": "code",
      "source": [
        "df = pd.read_csv('/content/drive/MyDrive/Colab Notebooks/탄소중립을 위한 기후기술 시각화/data/daatagissnasagov/전 세계 평균 월별, 계절별 및 연간 평균.csv', encoding='cp949')\n",
        "df.tail()"
      ],
      "metadata": {
        "colab": {
          "base_uri": "https://localhost:8080/",
          "height": 206
        },
        "id": "Q_l33bauNppA",
        "outputId": "64c7d208-135b-43fc-858f-21cb17ab5f58"
      },
      "execution_count": 9,
      "outputs": [
        {
          "output_type": "execute_result",
          "data": {
            "text/plain": [
              "     Year   Jan   Feb   Mar   Apr   May   Jun   Jul   Aug   Sep   Oct   Nov  \\\n",
              "136  2017  1.02  1.13  1.16  0.94  0.90  0.71  0.81  0.87  0.76  0.89  0.87   \n",
              "137  2018  0.81  0.84  0.88  0.89  0.82  0.77  0.82  0.76  0.80  1.01  0.82   \n",
              "138  2019  0.92  0.94  1.17  1.01  0.84  0.90  0.94  0.94  0.92  1.01  0.99   \n",
              "139  2020  1.16  1.24  1.17  1.13  1.02  0.92  0.90  0.87  0.98  0.88  1.10   \n",
              "140  2021  0.81  0.64  0.88  0.75  0.78  0.84  0.92  0.81  0.92  0.99  0.92   \n",
              "\n",
              "      Dec   J-D   D-N   DJF   MAM   JJA   SON  \n",
              "136  0.93  0.92  0.91  1.00  1.00  0.80  0.84  \n",
              "137  0.91  0.84  0.85  0.86  0.86  0.79  0.88  \n",
              "138  1.09  0.97  0.96  0.93  1.01  0.93  0.97  \n",
              "139  0.81  1.01  1.04  1.16  1.10  0.89  0.99  \n",
              "140  0.85  0.84  0.84  0.75  0.80  0.86  0.94  "
            ],
            "text/html": [
              "\n",
              "  <div id=\"df-ff148559-dd76-412b-b58a-92240bf23ae3\">\n",
              "    <div class=\"colab-df-container\">\n",
              "      <div>\n",
              "<style scoped>\n",
              "    .dataframe tbody tr th:only-of-type {\n",
              "        vertical-align: middle;\n",
              "    }\n",
              "\n",
              "    .dataframe tbody tr th {\n",
              "        vertical-align: top;\n",
              "    }\n",
              "\n",
              "    .dataframe thead th {\n",
              "        text-align: right;\n",
              "    }\n",
              "</style>\n",
              "<table border=\"1\" class=\"dataframe\">\n",
              "  <thead>\n",
              "    <tr style=\"text-align: right;\">\n",
              "      <th></th>\n",
              "      <th>Year</th>\n",
              "      <th>Jan</th>\n",
              "      <th>Feb</th>\n",
              "      <th>Mar</th>\n",
              "      <th>Apr</th>\n",
              "      <th>May</th>\n",
              "      <th>Jun</th>\n",
              "      <th>Jul</th>\n",
              "      <th>Aug</th>\n",
              "      <th>Sep</th>\n",
              "      <th>Oct</th>\n",
              "      <th>Nov</th>\n",
              "      <th>Dec</th>\n",
              "      <th>J-D</th>\n",
              "      <th>D-N</th>\n",
              "      <th>DJF</th>\n",
              "      <th>MAM</th>\n",
              "      <th>JJA</th>\n",
              "      <th>SON</th>\n",
              "    </tr>\n",
              "  </thead>\n",
              "  <tbody>\n",
              "    <tr>\n",
              "      <th>136</th>\n",
              "      <td>2017</td>\n",
              "      <td>1.02</td>\n",
              "      <td>1.13</td>\n",
              "      <td>1.16</td>\n",
              "      <td>0.94</td>\n",
              "      <td>0.90</td>\n",
              "      <td>0.71</td>\n",
              "      <td>0.81</td>\n",
              "      <td>0.87</td>\n",
              "      <td>0.76</td>\n",
              "      <td>0.89</td>\n",
              "      <td>0.87</td>\n",
              "      <td>0.93</td>\n",
              "      <td>0.92</td>\n",
              "      <td>0.91</td>\n",
              "      <td>1.00</td>\n",
              "      <td>1.00</td>\n",
              "      <td>0.80</td>\n",
              "      <td>0.84</td>\n",
              "    </tr>\n",
              "    <tr>\n",
              "      <th>137</th>\n",
              "      <td>2018</td>\n",
              "      <td>0.81</td>\n",
              "      <td>0.84</td>\n",
              "      <td>0.88</td>\n",
              "      <td>0.89</td>\n",
              "      <td>0.82</td>\n",
              "      <td>0.77</td>\n",
              "      <td>0.82</td>\n",
              "      <td>0.76</td>\n",
              "      <td>0.80</td>\n",
              "      <td>1.01</td>\n",
              "      <td>0.82</td>\n",
              "      <td>0.91</td>\n",
              "      <td>0.84</td>\n",
              "      <td>0.85</td>\n",
              "      <td>0.86</td>\n",
              "      <td>0.86</td>\n",
              "      <td>0.79</td>\n",
              "      <td>0.88</td>\n",
              "    </tr>\n",
              "    <tr>\n",
              "      <th>138</th>\n",
              "      <td>2019</td>\n",
              "      <td>0.92</td>\n",
              "      <td>0.94</td>\n",
              "      <td>1.17</td>\n",
              "      <td>1.01</td>\n",
              "      <td>0.84</td>\n",
              "      <td>0.90</td>\n",
              "      <td>0.94</td>\n",
              "      <td>0.94</td>\n",
              "      <td>0.92</td>\n",
              "      <td>1.01</td>\n",
              "      <td>0.99</td>\n",
              "      <td>1.09</td>\n",
              "      <td>0.97</td>\n",
              "      <td>0.96</td>\n",
              "      <td>0.93</td>\n",
              "      <td>1.01</td>\n",
              "      <td>0.93</td>\n",
              "      <td>0.97</td>\n",
              "    </tr>\n",
              "    <tr>\n",
              "      <th>139</th>\n",
              "      <td>2020</td>\n",
              "      <td>1.16</td>\n",
              "      <td>1.24</td>\n",
              "      <td>1.17</td>\n",
              "      <td>1.13</td>\n",
              "      <td>1.02</td>\n",
              "      <td>0.92</td>\n",
              "      <td>0.90</td>\n",
              "      <td>0.87</td>\n",
              "      <td>0.98</td>\n",
              "      <td>0.88</td>\n",
              "      <td>1.10</td>\n",
              "      <td>0.81</td>\n",
              "      <td>1.01</td>\n",
              "      <td>1.04</td>\n",
              "      <td>1.16</td>\n",
              "      <td>1.10</td>\n",
              "      <td>0.89</td>\n",
              "      <td>0.99</td>\n",
              "    </tr>\n",
              "    <tr>\n",
              "      <th>140</th>\n",
              "      <td>2021</td>\n",
              "      <td>0.81</td>\n",
              "      <td>0.64</td>\n",
              "      <td>0.88</td>\n",
              "      <td>0.75</td>\n",
              "      <td>0.78</td>\n",
              "      <td>0.84</td>\n",
              "      <td>0.92</td>\n",
              "      <td>0.81</td>\n",
              "      <td>0.92</td>\n",
              "      <td>0.99</td>\n",
              "      <td>0.92</td>\n",
              "      <td>0.85</td>\n",
              "      <td>0.84</td>\n",
              "      <td>0.84</td>\n",
              "      <td>0.75</td>\n",
              "      <td>0.80</td>\n",
              "      <td>0.86</td>\n",
              "      <td>0.94</td>\n",
              "    </tr>\n",
              "  </tbody>\n",
              "</table>\n",
              "</div>\n",
              "      <button class=\"colab-df-convert\" onclick=\"convertToInteractive('df-ff148559-dd76-412b-b58a-92240bf23ae3')\"\n",
              "              title=\"Convert this dataframe to an interactive table.\"\n",
              "              style=\"display:none;\">\n",
              "        \n",
              "  <svg xmlns=\"http://www.w3.org/2000/svg\" height=\"24px\"viewBox=\"0 0 24 24\"\n",
              "       width=\"24px\">\n",
              "    <path d=\"M0 0h24v24H0V0z\" fill=\"none\"/>\n",
              "    <path d=\"M18.56 5.44l.94 2.06.94-2.06 2.06-.94-2.06-.94-.94-2.06-.94 2.06-2.06.94zm-11 1L8.5 8.5l.94-2.06 2.06-.94-2.06-.94L8.5 2.5l-.94 2.06-2.06.94zm10 10l.94 2.06.94-2.06 2.06-.94-2.06-.94-.94-2.06-.94 2.06-2.06.94z\"/><path d=\"M17.41 7.96l-1.37-1.37c-.4-.4-.92-.59-1.43-.59-.52 0-1.04.2-1.43.59L10.3 9.45l-7.72 7.72c-.78.78-.78 2.05 0 2.83L4 21.41c.39.39.9.59 1.41.59.51 0 1.02-.2 1.41-.59l7.78-7.78 2.81-2.81c.8-.78.8-2.07 0-2.86zM5.41 20L4 18.59l7.72-7.72 1.47 1.35L5.41 20z\"/>\n",
              "  </svg>\n",
              "      </button>\n",
              "      \n",
              "  <style>\n",
              "    .colab-df-container {\n",
              "      display:flex;\n",
              "      flex-wrap:wrap;\n",
              "      gap: 12px;\n",
              "    }\n",
              "\n",
              "    .colab-df-convert {\n",
              "      background-color: #E8F0FE;\n",
              "      border: none;\n",
              "      border-radius: 50%;\n",
              "      cursor: pointer;\n",
              "      display: none;\n",
              "      fill: #1967D2;\n",
              "      height: 32px;\n",
              "      padding: 0 0 0 0;\n",
              "      width: 32px;\n",
              "    }\n",
              "\n",
              "    .colab-df-convert:hover {\n",
              "      background-color: #E2EBFA;\n",
              "      box-shadow: 0px 1px 2px rgba(60, 64, 67, 0.3), 0px 1px 3px 1px rgba(60, 64, 67, 0.15);\n",
              "      fill: #174EA6;\n",
              "    }\n",
              "\n",
              "    [theme=dark] .colab-df-convert {\n",
              "      background-color: #3B4455;\n",
              "      fill: #D2E3FC;\n",
              "    }\n",
              "\n",
              "    [theme=dark] .colab-df-convert:hover {\n",
              "      background-color: #434B5C;\n",
              "      box-shadow: 0px 1px 3px 1px rgba(0, 0, 0, 0.15);\n",
              "      filter: drop-shadow(0px 1px 2px rgba(0, 0, 0, 0.3));\n",
              "      fill: #FFFFFF;\n",
              "    }\n",
              "  </style>\n",
              "\n",
              "      <script>\n",
              "        const buttonEl =\n",
              "          document.querySelector('#df-ff148559-dd76-412b-b58a-92240bf23ae3 button.colab-df-convert');\n",
              "        buttonEl.style.display =\n",
              "          google.colab.kernel.accessAllowed ? 'block' : 'none';\n",
              "\n",
              "        async function convertToInteractive(key) {\n",
              "          const element = document.querySelector('#df-ff148559-dd76-412b-b58a-92240bf23ae3');\n",
              "          const dataTable =\n",
              "            await google.colab.kernel.invokeFunction('convertToInteractive',\n",
              "                                                     [key], {});\n",
              "          if (!dataTable) return;\n",
              "\n",
              "          const docLinkHtml = 'Like what you see? Visit the ' +\n",
              "            '<a target=\"_blank\" href=https://colab.research.google.com/notebooks/data_table.ipynb>data table notebook</a>'\n",
              "            + ' to learn more about interactive tables.';\n",
              "          element.innerHTML = '';\n",
              "          dataTable['output_type'] = 'display_data';\n",
              "          await google.colab.output.renderOutput(dataTable, element);\n",
              "          const docLink = document.createElement('div');\n",
              "          docLink.innerHTML = docLinkHtml;\n",
              "          element.appendChild(docLink);\n",
              "        }\n",
              "      </script>\n",
              "    </div>\n",
              "  </div>\n",
              "  "
            ]
          },
          "metadata": {},
          "execution_count": 9
        }
      ]
    },
    {
      "cell_type": "code",
      "source": [
        "IFrame(src='https://boogleboogle.github.io/html/nasa_%EC%A0%84_%EC%84%B8%EA%B3%84_%EA%B3%84%EC%A0%88%EB%B3%84_%ED%8F%89%EA%B7%A0_%EC%9C%A1%EC%A7%80_%ED%95%B4%EC%96%91_%EC%98%A8%EB%8F%84_%EC%A7%80%EC%88%98',  width=1000, height=600)"
      ],
      "metadata": {
        "id": "34BKdNqBWlJP",
        "colab": {
          "base_uri": "https://localhost:8080/",
          "height": 621
        },
        "outputId": "e0797f63-901d-4a09-fe29-8fc17d3f1d9c"
      },
      "execution_count": 10,
      "outputs": [
        {
          "output_type": "execute_result",
          "data": {
            "text/plain": [
              "<IPython.lib.display.IFrame at 0x7f0747bca090>"
            ],
            "text/html": [
              "\n",
              "        <iframe\n",
              "            width=\"1000\"\n",
              "            height=\"600\"\n",
              "            src=\"https://boogleboogle.github.io/html/nasa_%EC%A0%84_%EC%84%B8%EA%B3%84_%EA%B3%84%EC%A0%88%EB%B3%84_%ED%8F%89%EA%B7%A0_%EC%9C%A1%EC%A7%80_%ED%95%B4%EC%96%91_%EC%98%A8%EB%8F%84_%EC%A7%80%EC%88%98\"\n",
              "            frameborder=\"0\"\n",
              "            allowfullscreen\n",
              "        ></iframe>\n",
              "        "
            ]
          },
          "metadata": {},
          "execution_count": 10
        }
      ]
    },
    {
      "cell_type": "markdown",
      "source": [
        "이는 계절과 연도별 평균으로 묶어서 google chart를 이용하여 정리하고, 각각 추세선을 넣은 것이다.\n",
        "\n",
        "2000년 이후는 추세선보다 높은 곳에 그래프가 위치하고 있어, 그 상승경향이 더 두드러진다고 해석할 수 있다.\n",
        "\n",
        "세계기상기구, WMO는 2021년의 평균 기온이 1850~1900년 보다 1.11\n",
        "± 0.13 °C 높다고 이야기 했는데(출처: State of the Global Climate 2021 (WMO-No. 1290)) 위의 그래프도 비슷한 경향을 보여주고 있다.\n",
        "\n",
        "세계 기온의 1.11°C와 한국의 1°C는 어느정도의 크기일까? \n",
        "\n",
        "파리기후협약은 산업화 이전 수준(1850~1900년)과 비교하여 지구 온난화를 2°C 이하, 바람직하게는 1.5°C로 제한\"하는 것을 목표로 하고있다.\n",
        "\n",
        "하지만 IPCC(기후변화에 관한 정부 간 협의체)에서 1.5°C 상승하는 시점이 2040년 이전일 것이라고 WG1에서 말했다.\n",
        "\n",
        "1.5°C 상승은 70~90%의 산호 소멸, 2%상승은 99% 산호 멸종을 예상하고 있고,\n",
        "1.5°C와 2°C 사이는 10cm의 해수면 상승이 있을 것으로 예측된다.\n",
        "\n",
        "(해수면 상승은, 해양환경공단에서 만든 해수면상승 시뮬레이터(https://www.koem.or.kr/simulation/gmsl/rcp45.do)를 이용해 확인 할 수 있다.)"
      ],
      "metadata": {
        "id": "VuV14WVuEism"
      }
    },
    {
      "cell_type": "markdown",
      "source": [
        "## 2.기후기술의 정의, CTIS에 의한 기후기술 분류\n",
        "\n",
        "위에서는 지구온난화가 진행되었고, 얼마나 온도가 올랐는지를 확인해 봤다.\n",
        "\n",
        "이러한 문제를 어떻게 해결해가고 있는지 알아보자.\n",
        "\n",
        "본 대회에서는 기후기술을 \"기후기술이란 탄소중립 달성을 위해 온실가스를 감축하고 기후변화에 적응하기 위한 기술\"이라고 정의했다."
      ],
      "metadata": {
        "id": "EXrAQTG5zuWV"
      }
    },
    {
      "cell_type": "markdown",
      "source": [
        "그래서 기후기술이란 무엇인가? \n",
        "\n",
        "녹색기술센터(GTC)에서 구축하고 운영하고 있는 국가기후기술정보시스템(CTis)에서의 분류를 확인하면 더 직관적으로 알 수 있을 것이다.\n",
        "(https://www.ctis.re.kr/ko/techClass/classification.do?key=1141)\n",
        "\n",
        "대분류는 감축, 적응, 감축/적응 융복합의 3분류로,\n",
        "소분류는 원자력 발전 부터 인공광합성 등 45개로 분류되고 있다.\n",
        "\n",
        "분류의 깊이가 3단계부터 6단계까지 다양하므로 treemap을 이용하여 시각화하였다.\n",
        "\n",
        "클릭과 우클릭을 통해 확대, 축소하여 확인할 수 있다.\n",
        "\n",
        "각 셀의 색상은 CTis에서 작성한 최고 기술 대비 우리나라의 기술수준의 %이며,  가장 낮은 수력이 50%, 가장 높은 태양열등이 85%를 기록했다."
      ],
      "metadata": {
        "id": "IfhzTLoPFoyT"
      }
    },
    {
      "cell_type": "code",
      "source": [
        "IFrame(src='https://boogleboogle.github.io/html/CTis_%EB%B6%84%EB%A5%98', width=1000, height=600)"
      ],
      "metadata": {
        "id": "9QUFUOJ3Wly_",
        "colab": {
          "base_uri": "https://localhost:8080/",
          "height": 621
        },
        "outputId": "11a95c9b-4bf2-4b30-ed59-99f2be0c1235"
      },
      "execution_count": 11,
      "outputs": [
        {
          "output_type": "execute_result",
          "data": {
            "text/plain": [
              "<IPython.lib.display.IFrame at 0x7f0747bcab50>"
            ],
            "text/html": [
              "\n",
              "        <iframe\n",
              "            width=\"1000\"\n",
              "            height=\"600\"\n",
              "            src=\"https://boogleboogle.github.io/html/CTis_%EB%B6%84%EB%A5%98\"\n",
              "            frameborder=\"0\"\n",
              "            allowfullscreen\n",
              "        ></iframe>\n",
              "        "
            ]
          },
          "metadata": {},
          "execution_count": 11
        }
      ]
    },
    {
      "cell_type": "markdown",
      "source": [
        "## 3.한국의 기후기술\n",
        "\n",
        "국가통계포털 KOSIS에서 얻은 정보를 기반으로 막대그래프와 원형그래프를 그렸다.\n",
        "\n",
        "막대그래프는 지표의 수치를, 원형그래프는 기후기술의 대분류 3개의 비율을 나타냈다.\n",
        "\n",
        "결측치는 0으로 처리하였고, 년도별 시간변화는 좌하단의 일시정지를 통하여 멈출 수 있다.\n",
        "\n",
        "마우스를 올리면 정확한 수치를 확인할 수 있고,\n",
        "\n",
        "일부 높은 지표를 보이는 수치를 고려하여, 우측 상단의 피라미터를 클릭하면 원하는 지표만 볼 수 있도록 하였다. "
      ],
      "metadata": {
        "id": "qNcv6VazWXf2"
      }
    },
    {
      "cell_type": "markdown",
      "source": [
        "### 3-1. 기후기술 부문별, 기업규모별 매출액\n",
        "\n",
        "2012년부터 2018년까지의 매출액을 시각화하였다.\n",
        "\n",
        "매출액은 2012년에서 2015년까지 조금씩 감소하였다가, 2018년까지 상승하는 모습을 보여주고 있고,\n",
        "\n",
        "매출액은 대기업, 감축분야가 가장 큰 부분을 차지하고 있다."
      ],
      "metadata": {
        "id": "OAk34IeqWRBD"
      }
    },
    {
      "cell_type": "code",
      "source": [
        "IFrame(src='https://boogleboogle.github.io/html/kosis_%EB%B6%80%EB%AC%B8%EB%B3%84_%EA%B8%B0%EC%97%85%EA%B7%9C%EB%AA%A8%EB%B3%84_%EB%A7%A4%EC%B6%9C%EC%95%A1_%ED%98%84%ED%99%A9',  width=1000, height=600)"
      ],
      "metadata": {
        "id": "Q8S-8VNQT-kV",
        "colab": {
          "base_uri": "https://localhost:8080/",
          "height": 621
        },
        "outputId": "48d55143-facc-4ef8-fcac-2d24c6a3679b"
      },
      "execution_count": 12,
      "outputs": [
        {
          "output_type": "execute_result",
          "data": {
            "text/plain": [
              "<IPython.lib.display.IFrame at 0x7f0747bd45d0>"
            ],
            "text/html": [
              "\n",
              "        <iframe\n",
              "            width=\"1000\"\n",
              "            height=\"600\"\n",
              "            src=\"https://boogleboogle.github.io/html/kosis_%EB%B6%80%EB%AC%B8%EB%B3%84_%EA%B8%B0%EC%97%85%EA%B7%9C%EB%AA%A8%EB%B3%84_%EB%A7%A4%EC%B6%9C%EC%95%A1_%ED%98%84%ED%99%A9\"\n",
              "            frameborder=\"0\"\n",
              "            allowfullscreen\n",
              "        ></iframe>\n",
              "        "
            ]
          },
          "metadata": {},
          "execution_count": 12
        }
      ]
    },
    {
      "cell_type": "markdown",
      "source": [
        "### 3-2. 기후기술 부문별, 기업규모별 종사자수\n",
        "\n",
        "종사자수 현황도 위와 마찬가지로 감축이 적응에 비해 큰 수치를 보이고 있다.\n",
        "\n",
        "감축 에너지 저장을 제외하고 중견기업이 대기업과 비슷하거나 더 높은 수치를 보였다.\n",
        "\n",
        "2012년부터 2016년까지 지속적 성장을 하고 있었으나, 2016년부터 2018년까지 소폭 수치가 하락하였다."
      ],
      "metadata": {
        "id": "mLYlNjeg52rk"
      }
    },
    {
      "cell_type": "code",
      "source": [
        "IFrame(src='https://boogleboogle.github.io/html/kosis_%EB%B6%80%EB%AC%B8%EB%B3%84_%EA%B8%B0%EC%97%85%EA%B7%9C%EB%AA%A8%EB%B3%84_%EC%A2%85%EC%82%AC%EC%9E%90%EC%88%98_%ED%98%84%ED%99%A9',  width=1000, height=600)"
      ],
      "metadata": {
        "id": "4wa1V1gTWcYX",
        "colab": {
          "base_uri": "https://localhost:8080/",
          "height": 621
        },
        "outputId": "4f79aa9b-3483-4c54-cbc1-25ce802e39c3"
      },
      "execution_count": 13,
      "outputs": [
        {
          "output_type": "execute_result",
          "data": {
            "text/plain": [
              "<IPython.lib.display.IFrame at 0x7f0747bd81d0>"
            ],
            "text/html": [
              "\n",
              "        <iframe\n",
              "            width=\"1000\"\n",
              "            height=\"600\"\n",
              "            src=\"https://boogleboogle.github.io/html/kosis_%EB%B6%80%EB%AC%B8%EB%B3%84_%EA%B8%B0%EC%97%85%EA%B7%9C%EB%AA%A8%EB%B3%84_%EC%A2%85%EC%82%AC%EC%9E%90%EC%88%98_%ED%98%84%ED%99%A9\"\n",
              "            frameborder=\"0\"\n",
              "            allowfullscreen\n",
              "        ></iframe>\n",
              "        "
            ]
          },
          "metadata": {},
          "execution_count": 13
        }
      ]
    },
    {
      "cell_type": "markdown",
      "source": [
        "위에서 기업의 크기를 알아볼 수 있는 지표인 매출액과 종사자수를 이용하여 그래프를 그려보았다. \n",
        "\n",
        "매출액은 대기업이, 종사자수는 중견기업이 두드러지게 나타났다.\n",
        "\n",
        "연구개발비도 살펴보도록하자.\n"
      ],
      "metadata": {
        "id": "aDbTjFR7Z5dw"
      }
    },
    {
      "cell_type": "markdown",
      "source": [
        "### 3-3. 기후기술 부문별, 기업규모별 연구개발비 현황"
      ],
      "metadata": {
        "id": "cXhDMz11WZpm"
      }
    },
    {
      "cell_type": "markdown",
      "source": [
        "위와 마찬가지로 감축이 적응에 비해 높은 비율을 차지하고 있다.\n",
        "\n",
        "눈에 띄는 점으로는 중소기업의 에너지수요 관련 연구개발비가 대기업과 중견기업의 관련 연구개발비의 합보다 크다는 것이다.\n",
        "\n",
        "특이한 점으로는 2017년 대기업의 온실가스 연구개발비가 -6의 수치를 보였는데,\n",
        "결측치와는 다르게 표기하였으므로 그대로 가져와 사용하였다.\n",
        "\n",
        "연구개발비는 2012년부터 2018년까지 꾸준히 상승해오고 있다."
      ],
      "metadata": {
        "id": "DjrKZMgS4CIm"
      }
    },
    {
      "cell_type": "code",
      "source": [
        "IFrame(src='https://boogleboogle.github.io/html/kosis_%EB%B6%80%EB%AC%B8%EB%B3%84_%EA%B8%B0%EC%97%85%EA%B7%9C%EB%AA%A8%EB%B3%84_%EC%97%B0%EA%B5%AC%EA%B0%9C%EB%B0%9C%EB%B9%84_%ED%98%84%ED%99%A9',  width=1000, height=600)"
      ],
      "metadata": {
        "colab": {
          "base_uri": "https://localhost:8080/",
          "height": 621
        },
        "id": "WgsoRGhaUKaw",
        "outputId": "07b6ecca-a6a3-43d9-8ec0-46305a7b6e9b"
      },
      "execution_count": 14,
      "outputs": [
        {
          "output_type": "execute_result",
          "data": {
            "text/plain": [
              "<IPython.lib.display.IFrame at 0x7f0747bd8a90>"
            ],
            "text/html": [
              "\n",
              "        <iframe\n",
              "            width=\"1000\"\n",
              "            height=\"600\"\n",
              "            src=\"https://boogleboogle.github.io/html/kosis_%EB%B6%80%EB%AC%B8%EB%B3%84_%EA%B8%B0%EC%97%85%EA%B7%9C%EB%AA%A8%EB%B3%84_%EC%97%B0%EA%B5%AC%EA%B0%9C%EB%B0%9C%EB%B9%84_%ED%98%84%ED%99%A9\"\n",
              "            frameborder=\"0\"\n",
              "            allowfullscreen\n",
              "        ></iframe>\n",
              "        "
            ]
          },
          "metadata": {},
          "execution_count": 14
        }
      ]
    },
    {
      "cell_type": "markdown",
      "source": [
        "재미있게도 연구개발비는 중소기업에서 가장 높은 수치를 나타냈다."
      ],
      "metadata": {
        "id": "MDt0Fkh2ddfC"
      }
    },
    {
      "cell_type": "markdown",
      "source": [
        "### 3-4. 기후기술 영역별 정부지원 사업 수혜 여부 및 정책수단 종류(복수응답)\n",
        "\n",
        "중소기업의 연구개발비와 유사한 모습을 보이는 것은 정부지원 사업이었다.\n",
        "\n",
        "정책수단으로 금융지원을 받는 경우가 가장 많았다.\n",
        "\n",
        "중소기업의 연구개발비와 정부지원여부는 재생에너지, 에너지수요가 두드러지는 수치를 나타내는 점에서 크게 유사하다.\n",
        "\n",
        "국가에서 중소기업에 대한 지원이 이루어지고 있으며, \n",
        "\n",
        "중소기업은 이를 이용하여 재생에너지와 에너지수요부분의 연구를 하고 있다고 해석할 수 있다.\n"
      ],
      "metadata": {
        "id": "Mh0pXSNpWdGu"
      }
    },
    {
      "cell_type": "code",
      "source": [
        "IFrame(src='https://boogleboogle.github.io/html/kosis_2019_2020_%EA%B8%B0%ED%9B%84%EA%B8%B0%EC%88%A0_%EC%98%81%EC%97%AD%EB%B3%84_%EC%A0%95%EB%B6%80%EC%A7%80%EC%9B%90_%EC%82%AC%EC%97%85_%EC%88%98%ED%98%9C_%EC%97%AC%EB%B6%80_%EB%B0%8F_%EC%A0%95%EC%B1%85%EC%88%98%EB%8B%A8_%EC%A2%85%EB%A5%98(%EB%B3%B5%EC%88%98%EC%9D%91%EB%8B%B5)',  width=1000, height=600)"
      ],
      "metadata": {
        "colab": {
          "base_uri": "https://localhost:8080/",
          "height": 621
        },
        "id": "sUIeQiWwymBi",
        "outputId": "88335cd7-4b0f-45dc-fbe1-b5bfb3ec6bda"
      },
      "execution_count": 15,
      "outputs": [
        {
          "output_type": "execute_result",
          "data": {
            "text/plain": [
              "<IPython.lib.display.IFrame at 0x7f0747bd8290>"
            ],
            "text/html": [
              "\n",
              "        <iframe\n",
              "            width=\"1000\"\n",
              "            height=\"600\"\n",
              "            src=\"https://boogleboogle.github.io/html/kosis_2019_2020_%EA%B8%B0%ED%9B%84%EA%B8%B0%EC%88%A0_%EC%98%81%EC%97%AD%EB%B3%84_%EC%A0%95%EB%B6%80%EC%A7%80%EC%9B%90_%EC%82%AC%EC%97%85_%EC%88%98%ED%98%9C_%EC%97%AC%EB%B6%80_%EB%B0%8F_%EC%A0%95%EC%B1%85%EC%88%98%EB%8B%A8_%EC%A2%85%EB%A5%98(%EB%B3%B5%EC%88%98%EC%9D%91%EB%8B%B5)\"\n",
              "            frameborder=\"0\"\n",
              "            allowfullscreen\n",
              "        ></iframe>\n",
              "        "
            ]
          },
          "metadata": {},
          "execution_count": 15
        }
      ]
    },
    {
      "cell_type": "markdown",
      "source": [
        "### 3-5. 기후기술 영역별 기술수명주기 단계/ 누적 특허건 수\n",
        "\n",
        "누적 특허건 수 에서는 당해년도 특허건수의 비율이 높고, 늘고 있어 기후기술이 계속 성장하는 모습을 볼 수 있고,\n",
        "\n",
        "기술수명주기에서는 기술성장기가 가장 큰 수치를 보이고 있다.\n",
        "\n",
        "재생에너지와 에너지 수요부분의 수치가 높게 나타나는 모습이 위와 흡사하다.\n",
        "\n",
        "중소기업의 기술성숙으로 인한 매출 상승이 기대된다.\n",
        "\n"
      ],
      "metadata": {
        "id": "0KrA7OjHfcqd"
      }
    },
    {
      "cell_type": "code",
      "source": [
        "IFrame(src='https://boogleboogle.github.io/html/kosis_2019_2020_%EA%B8%B0%ED%9B%84%EA%B8%B0%EC%88%A0_%EC%98%81%EC%97%AD%EB%B3%84_%EA%B8%B0%EC%88%A0%EC%88%98%EB%AA%85%EC%A3%BC%EA%B8%B0_%EB%8B%A8%EA%B3%84', width=1000, height=600)"
      ],
      "metadata": {
        "colab": {
          "base_uri": "https://localhost:8080/",
          "height": 621
        },
        "id": "IRSurUyJyl_A",
        "outputId": "b97b6bee-3713-41b0-fcbd-70e7c55cdab6"
      },
      "execution_count": 16,
      "outputs": [
        {
          "output_type": "execute_result",
          "data": {
            "text/plain": [
              "<IPython.lib.display.IFrame at 0x7f0747bcaa10>"
            ],
            "text/html": [
              "\n",
              "        <iframe\n",
              "            width=\"1000\"\n",
              "            height=\"600\"\n",
              "            src=\"https://boogleboogle.github.io/html/kosis_2019_2020_%EA%B8%B0%ED%9B%84%EA%B8%B0%EC%88%A0_%EC%98%81%EC%97%AD%EB%B3%84_%EA%B8%B0%EC%88%A0%EC%88%98%EB%AA%85%EC%A3%BC%EA%B8%B0_%EB%8B%A8%EA%B3%84\"\n",
              "            frameborder=\"0\"\n",
              "            allowfullscreen\n",
              "        ></iframe>\n",
              "        "
            ]
          },
          "metadata": {},
          "execution_count": 16
        }
      ]
    },
    {
      "cell_type": "code",
      "source": [
        "IFrame(src='https://boogleboogle.github.io/html/kosis_2019_2020_%EA%B8%B0%ED%9B%84%EA%B8%B0%EC%88%A0_%EC%98%81%EC%97%AD%EB%B3%84_%EA%B8%B0%EC%88%A0_%EB%B0%8F_%EA%B8%B0%EA%B4%80%EC%9D%98_%EB%88%84%EC%A0%81_%ED%8A%B9%ED%97%88_%EA%B1%B4%EC%88%98',  width=1000, height=600)"
      ],
      "metadata": {
        "id": "2teAm8EzWeDn",
        "colab": {
          "base_uri": "https://localhost:8080/",
          "height": 621
        },
        "outputId": "7cf16fc0-bb17-4c52-8aef-5d15fc92734c"
      },
      "execution_count": 17,
      "outputs": [
        {
          "output_type": "execute_result",
          "data": {
            "text/plain": [
              "<IPython.lib.display.IFrame at 0x7f0747bca2d0>"
            ],
            "text/html": [
              "\n",
              "        <iframe\n",
              "            width=\"1000\"\n",
              "            height=\"600\"\n",
              "            src=\"https://boogleboogle.github.io/html/kosis_2019_2020_%EA%B8%B0%ED%9B%84%EA%B8%B0%EC%88%A0_%EC%98%81%EC%97%AD%EB%B3%84_%EA%B8%B0%EC%88%A0_%EB%B0%8F_%EA%B8%B0%EA%B4%80%EC%9D%98_%EB%88%84%EC%A0%81_%ED%8A%B9%ED%97%88_%EA%B1%B4%EC%88%98\"\n",
              "            frameborder=\"0\"\n",
              "            allowfullscreen\n",
              "        ></iframe>\n",
              "        "
            ]
          },
          "metadata": {},
          "execution_count": 17
        }
      ]
    },
    {
      "cell_type": "markdown",
      "source": [
        "### 3-6. 기후기술 영역별 기관규모별 연구원 수\n",
        "2020년과 2019년의 기관규모에 대한 기준이 달라서 그래프를 따로 그렸다.\n",
        "\n",
        "2000억 이상의 규모가 높은 성장치를 보이고, 그 다음으로 높은 수치를 보여주는 100억원 미만과 공공기관이 하락하는 경향을 보였다.\n",
        "\n",
        "특히 2000억 이상의 규모가 차지하는 비율은 2020년도에 절반 이상이다."
      ],
      "metadata": {
        "id": "B9xMcxoAtBar"
      }
    },
    {
      "cell_type": "code",
      "source": [
        "IFrame(src='https://boogleboogle.github.io/html/kosis_2019_%EA%B8%B0%ED%9B%84%EA%B8%B0%EC%88%A0_%EC%98%81%EC%97%AD%EB%B3%84_%EA%B8%B0%EA%B4%80%EA%B7%9C%EB%AA%A8%EB%B3%84_%EC%97%B0%EA%B5%AC%EC%9B%90%EC%88%98',  width=1000, height=600)"
      ],
      "metadata": {
        "colab": {
          "base_uri": "https://localhost:8080/",
          "height": 621
        },
        "id": "Al7iXbx4ymRK",
        "outputId": "e15f4f9b-dcb9-4fd3-ba42-301b08cefe49"
      },
      "execution_count": 18,
      "outputs": [
        {
          "output_type": "execute_result",
          "data": {
            "text/plain": [
              "<IPython.lib.display.IFrame at 0x7f0747bc7390>"
            ],
            "text/html": [
              "\n",
              "        <iframe\n",
              "            width=\"1000\"\n",
              "            height=\"600\"\n",
              "            src=\"https://boogleboogle.github.io/html/kosis_2019_%EA%B8%B0%ED%9B%84%EA%B8%B0%EC%88%A0_%EC%98%81%EC%97%AD%EB%B3%84_%EA%B8%B0%EA%B4%80%EA%B7%9C%EB%AA%A8%EB%B3%84_%EC%97%B0%EA%B5%AC%EC%9B%90%EC%88%98\"\n",
              "            frameborder=\"0\"\n",
              "            allowfullscreen\n",
              "        ></iframe>\n",
              "        "
            ]
          },
          "metadata": {},
          "execution_count": 18
        }
      ]
    },
    {
      "cell_type": "code",
      "source": [
        "IFrame(src='https://boogleboogle.github.io/html/kosis_2020_%EA%B8%B0%ED%9B%84%EA%B8%B0%EC%88%A0_%EC%98%81%EC%97%AD%EB%B3%84_%EA%B8%B0%EA%B4%80%EA%B7%9C%EB%AA%A8%EB%B3%84_%EC%97%B0%EA%B5%AC%EC%9B%90%EC%88%98',  width=1000, height=600)"
      ],
      "metadata": {
        "colab": {
          "base_uri": "https://localhost:8080/",
          "height": 621
        },
        "id": "EmjbB1IZymhJ",
        "outputId": "638a0623-754f-4b95-bf80-c95e163a24a6"
      },
      "execution_count": 19,
      "outputs": [
        {
          "output_type": "execute_result",
          "data": {
            "text/plain": [
              "<IPython.lib.display.IFrame at 0x7f0748083890>"
            ],
            "text/html": [
              "\n",
              "        <iframe\n",
              "            width=\"1000\"\n",
              "            height=\"600\"\n",
              "            src=\"https://boogleboogle.github.io/html/kosis_2020_%EA%B8%B0%ED%9B%84%EA%B8%B0%EC%88%A0_%EC%98%81%EC%97%AD%EB%B3%84_%EA%B8%B0%EA%B4%80%EA%B7%9C%EB%AA%A8%EB%B3%84_%EC%97%B0%EA%B5%AC%EC%9B%90%EC%88%98\"\n",
              "            frameborder=\"0\"\n",
              "            allowfullscreen\n",
              "        ></iframe>\n",
              "        "
            ]
          },
          "metadata": {},
          "execution_count": 19
        }
      ]
    },
    {
      "cell_type": "markdown",
      "source": [
        "### 3-7. 기후기술 영역별 기관규모별 수출액\n",
        "\n",
        "전체 수출액은 전체 매출액의 5분의 1이 되지 않는다.\n",
        "\n",
        "대부분이 2000억 원 이상에서 차지하고 있다."
      ],
      "metadata": {
        "id": "DUX_Quk6yCBl"
      }
    },
    {
      "cell_type": "code",
      "source": [
        "IFrame(src='https://boogleboogle.github.io/html/kosis_2019_%EA%B8%B0%ED%9B%84%EA%B8%B0%EC%88%A0_%EC%98%81%EC%97%AD%EB%B3%84_%EA%B8%B0%EA%B4%80%EA%B7%9C%EB%AA%A8%EB%B3%84_%EC%88%98%EC%B6%9C%EC%95%A1', width=1000, height=600)"
      ],
      "metadata": {
        "colab": {
          "base_uri": "https://localhost:8080/",
          "height": 621
        },
        "id": "nIEcDdezymL4",
        "outputId": "901217ef-ca2d-4154-cd64-372317b578c2"
      },
      "execution_count": 20,
      "outputs": [
        {
          "output_type": "execute_result",
          "data": {
            "text/plain": [
              "<IPython.lib.display.IFrame at 0x7f0747bb6210>"
            ],
            "text/html": [
              "\n",
              "        <iframe\n",
              "            width=\"1000\"\n",
              "            height=\"600\"\n",
              "            src=\"https://boogleboogle.github.io/html/kosis_2019_%EA%B8%B0%ED%9B%84%EA%B8%B0%EC%88%A0_%EC%98%81%EC%97%AD%EB%B3%84_%EA%B8%B0%EA%B4%80%EA%B7%9C%EB%AA%A8%EB%B3%84_%EC%88%98%EC%B6%9C%EC%95%A1\"\n",
              "            frameborder=\"0\"\n",
              "            allowfullscreen\n",
              "        ></iframe>\n",
              "        "
            ]
          },
          "metadata": {},
          "execution_count": 20
        }
      ]
    },
    {
      "cell_type": "code",
      "source": [
        "IFrame(src='https://boogleboogle.github.io/html/kosis_2020_%EA%B8%B0%ED%9B%84%EA%B8%B0%EC%88%A0_%EC%98%81%EC%97%AD%EB%B3%84_%EA%B8%B0%EA%B4%80%EA%B7%9C%EB%AA%A8%EB%B3%84_%EC%88%98%EC%B6%9C%EC%95%A1',  width=1000, height=600)"
      ],
      "metadata": {
        "colab": {
          "base_uri": "https://localhost:8080/",
          "height": 621
        },
        "id": "ixBKdCkTymbp",
        "outputId": "cf111cef-4b9d-4acb-d1bf-562be77b8572"
      },
      "execution_count": 21,
      "outputs": [
        {
          "output_type": "execute_result",
          "data": {
            "text/plain": [
              "<IPython.lib.display.IFrame at 0x7f0747be4350>"
            ],
            "text/html": [
              "\n",
              "        <iframe\n",
              "            width=\"1000\"\n",
              "            height=\"600\"\n",
              "            src=\"https://boogleboogle.github.io/html/kosis_2020_%EA%B8%B0%ED%9B%84%EA%B8%B0%EC%88%A0_%EC%98%81%EC%97%AD%EB%B3%84_%EA%B8%B0%EA%B4%80%EA%B7%9C%EB%AA%A8%EB%B3%84_%EC%88%98%EC%B6%9C%EC%95%A1\"\n",
              "            frameborder=\"0\"\n",
              "            allowfullscreen\n",
              "        ></iframe>\n",
              "        "
            ]
          },
          "metadata": {},
          "execution_count": 21
        }
      ]
    },
    {
      "cell_type": "markdown",
      "source": [
        "### 3-8. 기후기술 영역별 해외 진출지역\n",
        "\n",
        "해외진출은 대부분 아시아에 몰려있고, 미국이 그 다음을 따른다."
      ],
      "metadata": {
        "id": "H_j6QihFx0u-"
      }
    },
    {
      "cell_type": "code",
      "source": [
        "IFrame(src='https://boogleboogle.github.io/html/kosis_2019_2020_%EA%B8%B0%ED%9B%84%EA%B8%B0%EC%88%A0_%EC%98%81%EC%97%AD%EB%B3%84_%ED%95%B4%EC%99%B8%EC%A7%84%EC%B6%9C%EC%A7%80%EC%97%AD',  width=1000, height=600)"
      ],
      "metadata": {
        "colab": {
          "base_uri": "https://localhost:8080/",
          "height": 621
        },
        "id": "1B9Lv2PLymEA",
        "outputId": "fbd051f9-7621-4bed-e484-c1e9611342a3"
      },
      "execution_count": 22,
      "outputs": [
        {
          "output_type": "execute_result",
          "data": {
            "text/plain": [
              "<IPython.lib.display.IFrame at 0x7f0747be4c10>"
            ],
            "text/html": [
              "\n",
              "        <iframe\n",
              "            width=\"1000\"\n",
              "            height=\"600\"\n",
              "            src=\"https://boogleboogle.github.io/html/kosis_2019_2020_%EA%B8%B0%ED%9B%84%EA%B8%B0%EC%88%A0_%EC%98%81%EC%97%AD%EB%B3%84_%ED%95%B4%EC%99%B8%EC%A7%84%EC%B6%9C%EC%A7%80%EC%97%AD\"\n",
              "            frameborder=\"0\"\n",
              "            allowfullscreen\n",
              "        ></iframe>\n",
              "        "
            ]
          },
          "metadata": {},
          "execution_count": 22
        }
      ]
    },
    {
      "cell_type": "markdown",
      "source": [
        "### 3-9. 기후기술 영역별 국내 해외 기술이전 방식/기후기술 영역별 국내 기술이전 선호항목\n",
        "\n",
        "국내 유상기술양도가 절반을 이루지만, 무상양도를 더 선호하고 있다."
      ],
      "metadata": {
        "id": "EANCiLbfx7TN"
      }
    },
    {
      "cell_type": "code",
      "source": [
        "IFrame(src='https://boogleboogle.github.io/html/kosis_2019_%EA%B8%B0%ED%9B%84%EA%B8%B0%EC%88%A0_%EC%98%81%EC%97%AD%EB%B3%84_%EA%B5%AD%EB%82%B4_%ED%95%B4%EC%99%B8_%EA%B8%B0%EC%88%A0%EC%9D%B4%EC%A0%84_%EB%B0%A9%EC%8B%9D',  width=1000, height=600)"
      ],
      "metadata": {
        "colab": {
          "base_uri": "https://localhost:8080/",
          "height": 621
        },
        "id": "nf05NyZHymGo",
        "outputId": "9b2bf160-f22a-4692-bc51-c155dc9187a1"
      },
      "execution_count": 23,
      "outputs": [
        {
          "output_type": "execute_result",
          "data": {
            "text/plain": [
              "<IPython.lib.display.IFrame at 0x7f0747b69510>"
            ],
            "text/html": [
              "\n",
              "        <iframe\n",
              "            width=\"1000\"\n",
              "            height=\"600\"\n",
              "            src=\"https://boogleboogle.github.io/html/kosis_2019_%EA%B8%B0%ED%9B%84%EA%B8%B0%EC%88%A0_%EC%98%81%EC%97%AD%EB%B3%84_%EA%B5%AD%EB%82%B4_%ED%95%B4%EC%99%B8_%EA%B8%B0%EC%88%A0%EC%9D%B4%EC%A0%84_%EB%B0%A9%EC%8B%9D\"\n",
              "            frameborder=\"0\"\n",
              "            allowfullscreen\n",
              "        ></iframe>\n",
              "        "
            ]
          },
          "metadata": {},
          "execution_count": 23
        }
      ]
    },
    {
      "cell_type": "code",
      "source": [
        "IFrame(src='https://boogleboogle.github.io/html/kosis_2020_%EA%B8%B0%ED%9B%84%EA%B8%B0%EC%88%A0_%EC%98%81%EC%97%AD%EB%B3%84_%EA%B5%AD%EB%82%B4_%EA%B8%B0%EC%88%A0%EC%9D%B4%EC%A0%84_%EC%84%A0%ED%98%B8_%ED%95%AD%EB%AA%A9(%EB%B3%B5%EC%88%98%EC%9D%91%EB%8B%B5)',  width=1000, height=600)"
      ],
      "metadata": {
        "colab": {
          "base_uri": "https://localhost:8080/",
          "height": 621
        },
        "id": "UAfhFjohymWZ",
        "outputId": "a34f11d7-e109-437d-b965-94c805d377b1"
      },
      "execution_count": 24,
      "outputs": [
        {
          "output_type": "execute_result",
          "data": {
            "text/plain": [
              "<IPython.lib.display.IFrame at 0x7f0747b69dd0>"
            ],
            "text/html": [
              "\n",
              "        <iframe\n",
              "            width=\"1000\"\n",
              "            height=\"600\"\n",
              "            src=\"https://boogleboogle.github.io/html/kosis_2020_%EA%B8%B0%ED%9B%84%EA%B8%B0%EC%88%A0_%EC%98%81%EC%97%AD%EB%B3%84_%EA%B5%AD%EB%82%B4_%EA%B8%B0%EC%88%A0%EC%9D%B4%EC%A0%84_%EC%84%A0%ED%98%B8_%ED%95%AD%EB%AA%A9(%EB%B3%B5%EC%88%98%EC%9D%91%EB%8B%B5)\"\n",
              "            frameborder=\"0\"\n",
              "            allowfullscreen\n",
              "        ></iframe>\n",
              "        "
            ]
          },
          "metadata": {},
          "execution_count": 24
        }
      ]
    },
    {
      "cell_type": "markdown",
      "source": [
        "기후기술에 대한 수출액, 해외진출, 기술이전을 살펴보았다.\n",
        "\n",
        "기술성장기의 기술이 많은 이유에선지 국내중심으로 시장이 활성화되어 있는 것 처럼 보인다."
      ],
      "metadata": {
        "id": "ULS3b-3J_p-u"
      }
    },
    {
      "cell_type": "markdown",
      "source": [
        "## 4.탄소중립\n",
        "\n",
        "위에서는 국내에서 분야별 기업규모별 정보들을 확인해봤다.\n",
        "\n",
        "이러한 노력은 탄소중립에 얼마나 도움이 되었는지 살펴보도록 하자.\n",
        "\n",
        "our world in data에서 정보를 수집하여 시각화 하였다."
      ],
      "metadata": {
        "id": "o-nCmBbPAN4o"
      }
    },
    {
      "cell_type": "markdown",
      "source": [
        "### 4-1. 한국, 미국, 중국, 스웨덴의 연간 이산화탄소배출량\n",
        "\n",
        "전세계의 나라들을 비교하기에는 시각적으로 너무 지저분하고 원하는 정보를 보기 힘들어서 네 개의 나라만 비교하였다.\n",
        "\n",
        "가장 많이 이산화탄소를 배출하는 중국과 미국과 비교하여 한국의 이산화탄소 배출량이 어느정도인지 가시화하였다.\n",
        "\n",
        "GDP대비 co2배출량이 마이너스를 가지는 스웨덴과도 비교하였다.\n",
        "\n",
        "미국, 중국의 수치가 너무 크기때문에 상단의 나라를 클릭하여 원하는 나라만 출력할 수 있도록 하였다.\n",
        "\n",
        "미국은 꾸준히 많은 이산화 탄소를 배출하고 있지만, 다행히 그 수치가 줄어들고 있는 반면에\n",
        "\n",
        "중국은 급속도로 이산화탄소 배출량이 늘어나고 있는 경향을 볼 수 있다.\n",
        "\n",
        "한국은 상승세였던 이산화탄소 배출량이 2019년 이후 감소하는 경향을 보이며,\n",
        "\n",
        "스웨덴은 낮은 배출량을 꾸준히 유지하고 있다.\n",
        "\n"
      ],
      "metadata": {
        "id": "sTgqc7dBfR7y"
      }
    },
    {
      "cell_type": "code",
      "source": [
        "IFrame(src='https://boogleboogle.github.io/html/%EC%97%B0%EA%B0%84_co2_%EB%B0%B0%EC%B6%9C%EB%9F%89_%ED%95%9C%EA%B5%AD_%EC%A4%91%EA%B5%AD_%EB%AF%B8%EA%B5%AD_%EC%8A%A4%ED%8E%98%EC%9D%B8',  width=1000, height=600)"
      ],
      "metadata": {
        "colab": {
          "base_uri": "https://localhost:8080/",
          "height": 621
        },
        "id": "ihvdpabsfDrC",
        "outputId": "33fe5d01-4b21-4ab2-c77d-e721c57b051c"
      },
      "execution_count": 25,
      "outputs": [
        {
          "output_type": "execute_result",
          "data": {
            "text/plain": [
              "<IPython.lib.display.IFrame at 0x7f0747b726d0>"
            ],
            "text/html": [
              "\n",
              "        <iframe\n",
              "            width=\"1000\"\n",
              "            height=\"600\"\n",
              "            src=\"https://boogleboogle.github.io/html/%EC%97%B0%EA%B0%84_co2_%EB%B0%B0%EC%B6%9C%EB%9F%89_%ED%95%9C%EA%B5%AD_%EC%A4%91%EA%B5%AD_%EB%AF%B8%EA%B5%AD_%EC%8A%A4%ED%8E%98%EC%9D%B8\"\n",
              "            frameborder=\"0\"\n",
              "            allowfullscreen\n",
              "        ></iframe>\n",
              "        "
            ]
          },
          "metadata": {},
          "execution_count": 25
        }
      ]
    },
    {
      "cell_type": "markdown",
      "source": [
        "### 4-2. 연간 전년도 대비 co2 배출량 변화\n",
        "\n",
        "다음은 위의 그래프에서 전년도 대비 변화량으로 바꾼 것이다.\n",
        "\n",
        "중국이 역시 큰 지표를 보여주고 있다.\n",
        "\n",
        "한국만 살펴보면, 2018년 이후로 얼마나 감소세를 보이고 있는지 확인할 수 있다."
      ],
      "metadata": {
        "id": "AOnaiI0-6_Rm"
      }
    },
    {
      "cell_type": "code",
      "source": [
        "IFrame(src='https://boogleboogle.github.io/html/%EC%97%B0%EA%B0%84_%EC%A0%84%EB%85%84%EB%8F%84_%EB%8C%80%EB%B9%84_CO2_%EB%B0%B0%EC%B6%9C%EB%9F%89_%EB%B3%80%ED%99%94_%ED%95%9C%EA%B5%AD_%EC%A4%91%EA%B5%AD_%EB%AF%B8%EA%B5%AD_%EC%8A%A4%ED%8E%98%EC%9D%B8',  width=1000, height=600)"
      ],
      "metadata": {
        "colab": {
          "base_uri": "https://localhost:8080/",
          "height": 621
        },
        "id": "2Nil-hvU7E2k",
        "outputId": "926e615c-7f60-496f-da5c-9f9baf33c783"
      },
      "execution_count": 26,
      "outputs": [
        {
          "output_type": "execute_result",
          "data": {
            "text/plain": [
              "<IPython.lib.display.IFrame at 0x7f0747b72f90>"
            ],
            "text/html": [
              "\n",
              "        <iframe\n",
              "            width=\"1000\"\n",
              "            height=\"600\"\n",
              "            src=\"https://boogleboogle.github.io/html/%EC%97%B0%EA%B0%84_%EC%A0%84%EB%85%84%EB%8F%84_%EB%8C%80%EB%B9%84_CO2_%EB%B0%B0%EC%B6%9C%EB%9F%89_%EB%B3%80%ED%99%94_%ED%95%9C%EA%B5%AD_%EC%A4%91%EA%B5%AD_%EB%AF%B8%EA%B5%AD_%EC%8A%A4%ED%8E%98%EC%9D%B8\"\n",
              "            frameborder=\"0\"\n",
              "            allowfullscreen\n",
              "        ></iframe>\n",
              "        "
            ]
          },
          "metadata": {},
          "execution_count": 26
        }
      ]
    },
    {
      "cell_type": "markdown",
      "source": [
        "### 4-3. 한국의 부문별 co2 배출량\n",
        "\n",
        "다음은 한국의 부문별 co2배출량이다.\n",
        "\n",
        "1990년에는 전체의 약 26%를 차지하고 있던 전기 및 열 부문이 크게 증가하여 2018년도에는 약 59%를 차지하고 있다.\n",
        "\n",
        "아쉽게도 2019년도 이후의 수치는 없어서 어떤 수치가 하락세로 전환되었는지 파악하지 못했다.\n"
      ],
      "metadata": {
        "id": "i1onbqe2k3AS"
      }
    },
    {
      "cell_type": "code",
      "source": [
        "IFrame(src='https://boogleboogle.github.io/html/%EB%B6%80%EB%AC%B8%EB%B3%84_co2_%EB%B0%B0%EC%B6%9C%EB%9F%89_%ED%95%9C%EA%B5%AD',  width=1000, height=600)"
      ],
      "metadata": {
        "colab": {
          "base_uri": "https://localhost:8080/",
          "height": 621
        },
        "id": "tPhzfTpGwVib",
        "outputId": "06d23c1a-0057-414a-a83f-9a68956dcd59"
      },
      "execution_count": 27,
      "outputs": [
        {
          "output_type": "execute_result",
          "data": {
            "text/plain": [
              "<IPython.lib.display.IFrame at 0x7f0747b69410>"
            ],
            "text/html": [
              "\n",
              "        <iframe\n",
              "            width=\"1000\"\n",
              "            height=\"600\"\n",
              "            src=\"https://boogleboogle.github.io/html/%EB%B6%80%EB%AC%B8%EB%B3%84_co2_%EB%B0%B0%EC%B6%9C%EB%9F%89_%ED%95%9C%EA%B5%AD\"\n",
              "            frameborder=\"0\"\n",
              "            allowfullscreen\n",
              "        ></iframe>\n",
              "        "
            ]
          },
          "metadata": {},
          "execution_count": 27
        }
      ]
    },
    {
      "cell_type": "markdown",
      "source": [
        "### 4-4. 한국 연료별 CO2 생산량\n",
        "\n",
        "연료별로 살펴본다면, \n",
        "\n",
        "기름에 의한 이산화탄소 배출은 1990년대에 가장 높았으나 서서히 하락하는 모습을 보여준다.\n",
        "\n",
        "\n",
        "반대로 석탄에 의한 이산화탄소 배출이 크게 상승하여 2000년대에 가장 많은 이산화탄소를 배출했으나, 최근 하락하기 시작하였다."
      ],
      "metadata": {
        "id": "AneyAazd-yF-"
      }
    },
    {
      "cell_type": "code",
      "source": [
        "IFrame(src='https://boogleboogle.github.io/html/%EC%97%B0%EA%B0%84_%EC%97%B0%EB%A3%8C%EB%B3%84_co2_%EB%B0%B0%EC%B6%9C%EB%9F%89_%ED%95%9C%EA%B5%AD',  width=1000, height=600)"
      ],
      "metadata": {
        "colab": {
          "base_uri": "https://localhost:8080/",
          "height": 621
        },
        "id": "JMjX-qTK-5Hc",
        "outputId": "be6c3f83-5914-4ede-ca19-819516f1bf56"
      },
      "execution_count": 28,
      "outputs": [
        {
          "output_type": "execute_result",
          "data": {
            "text/plain": [
              "<IPython.lib.display.IFrame at 0x7f0747be43d0>"
            ],
            "text/html": [
              "\n",
              "        <iframe\n",
              "            width=\"1000\"\n",
              "            height=\"600\"\n",
              "            src=\"https://boogleboogle.github.io/html/%EC%97%B0%EA%B0%84_%EC%97%B0%EB%A3%8C%EB%B3%84_co2_%EB%B0%B0%EC%B6%9C%EB%9F%89_%ED%95%9C%EA%B5%AD\"\n",
              "            frameborder=\"0\"\n",
              "            allowfullscreen\n",
              "        ></iframe>\n",
              "        "
            ]
          },
          "metadata": {},
          "execution_count": 28
        }
      ]
    },
    {
      "cell_type": "markdown",
      "source": [
        "### 4-5. 2050 탄소중립 시나리오\n",
        "\n",
        "아래는 탄소중립녹생성장위원회에서 발표한 탄소중립 시나리오 최종안의 총괄표이다.\n",
        "단위는 백만톤CO2eq를 사용하였다.\n",
        "\n",
        "2050년까지 줄여야할 배출량과, 흡수 및 제거량의 목표를 두개의 안을 설정하였다.\n",
        "\n",
        "A안과 B안은 화력발전의 전면중단여부, 전기, 수소차로의 전면전환 여부 등 기술의 방향에 따라 다르다."
      ],
      "metadata": {
        "id": "11I_t_GgAX1E"
      }
    },
    {
      "cell_type": "code",
      "source": [
        "IFrame(src='https://boogleboogle.github.io/html/2050%ED%83%84%EC%86%8C%EC%A4%91%EB%A6%BD%EC%8B%9C%EB%82%98%EB%A6%AC%EC%98%A4',  width=1000, height=600)"
      ],
      "metadata": {
        "colab": {
          "base_uri": "https://localhost:8080/",
          "height": 621
        },
        "id": "tNjNXsizi0o3",
        "outputId": "f96575e7-705f-4f44-f794-41d2f63da13a"
      },
      "execution_count": 29,
      "outputs": [
        {
          "output_type": "execute_result",
          "data": {
            "text/plain": [
              "<IPython.lib.display.IFrame at 0x7f0747bc7f90>"
            ],
            "text/html": [
              "\n",
              "        <iframe\n",
              "            width=\"1000\"\n",
              "            height=\"600\"\n",
              "            src=\"https://boogleboogle.github.io/html/2050%ED%83%84%EC%86%8C%EC%A4%91%EB%A6%BD%EC%8B%9C%EB%82%98%EB%A6%AC%EC%98%A4\"\n",
              "            frameborder=\"0\"\n",
              "            allowfullscreen\n",
              "        ></iframe>\n",
              "        "
            ]
          },
          "metadata": {},
          "execution_count": 29
        }
      ]
    },
    {
      "cell_type": "markdown",
      "source": [
        "## 5.마치며\n",
        "\n",
        "현재 우리가 맞이하고 있는 지구온난화의 상황이 어떠한지,\n",
        "\n",
        "지구온난화를 해결하기위한 기후기술은 무엇인지, 얼마나 진행되고 있는지,\n",
        "\n",
        "기후기술의 목표와 방향은 어디인지를 확인해 보았다.\n",
        "\n",
        "아쉽게도 간단히 둘러보는 정도 밖에 못 한것 같습니다.\n",
        "\n",
        "처음으로 참여하는 시각화 대회라서 부족함 밖에 없지만 이런저런 정보들을 찾아보면서 배우는 과정이 재미있었습니다. \n",
        "\n",
        "읽어주셔서 감사합니다."
      ],
      "metadata": {
        "id": "yBBdyrFGjvN2"
      }
    }
  ]
}