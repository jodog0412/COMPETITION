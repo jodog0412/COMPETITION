{
  "nbformat": 4,
  "nbformat_minor": 0,
  "metadata": {
    "colab": {
      "name": "LANDMARK_IMAGE_CLASSIFICATION.ipynb",
      "private_outputs": true,
      "provenance": [],
      "collapsed_sections": [],
      "authorship_tag": "ABX9TyPHOR/v8vHxn4qgKwG+Nmg8",
      "include_colab_link": true
    },
    "kernelspec": {
      "name": "python3",
      "display_name": "Python 3"
    },
    "language_info": {
      "name": "python"
    }
  },
  "cells": [
    {
      "cell_type": "markdown",
      "metadata": {
        "id": "view-in-github",
        "colab_type": "text"
      },
      "source": [
        "<a href=\"https://colab.research.google.com/github/jodog0412/DACON/blob/main/LANDMARK_IMAGE_CLASSIFICATION.ipynb\" target=\"_parent\"><img src=\"https://colab.research.google.com/assets/colab-badge.svg\" alt=\"Open In Colab\"/></a>"
      ]
    },
    {
      "cell_type": "code",
      "execution_count": null,
      "metadata": {
        "id": "3coaEuSv6YO7"
      },
      "outputs": [],
      "source": [
        "from google.colab import drive\n",
        "drive.mount('/content/drive')\n",
        "%cd /content/drive/MyDrive/Colab/LANDMARK_IMAGE_CLASSFICATION\n",
        "!ls"
      ]
    },
    {
      "cell_type": "markdown",
      "source": [
        "# 1. 데이터 로드"
      ],
      "metadata": {
        "id": "7tRbxwna6blp"
      }
    },
    {
      "cell_type": "code",
      "source": [
        "import pandas as pd\n",
        "df = pd.read_csv('dataset/train.csv')\n",
        "df.head()"
      ],
      "metadata": {
        "id": "Mn-T5JBy6fCh"
      },
      "execution_count": null,
      "outputs": []
    },
    {
      "cell_type": "code",
      "source": [
        "import os\n",
        "from glob import glob\n",
        "\n",
        "def get_train_data(data_dir):\n",
        "    img_path_list = []\n",
        "    label_list = []\n",
        "    img_path_list.extend(glob(os.path.join(data_dir, '*.PNG')))\n",
        "    img_path_list.sort(key=lambda x:int(x.split('/')[-1].split('.')[0]))\n",
        "    label_list.extend(df['label'])\n",
        "    return img_path_list, label_list\n",
        "\n",
        "def get_test_data(data_dir):\n",
        "    img_path_list = []\n",
        "    img_path_list.extend(glob(os.path.join(data_dir, '*.PNG')))\n",
        "    img_path_list.sort(key=lambda x:int(x.split('/')[-1].split('.')[0]))\n",
        "    #print(img_path_list)\n",
        "    return img_path_list\n",
        "\n",
        "all_img_path, all_label = get_train_data('dataset/train')\n",
        "test_img_path = get_test_data('dataset/test')\n",
        "\n",
        "# all_img_path\n",
        "# all_label"
      ],
      "metadata": {
        "id": "YMCqhHK06eis"
      },
      "execution_count": null,
      "outputs": []
    },
    {
      "cell_type": "markdown",
      "source": [
        "# 2. 환경설정"
      ],
      "metadata": {
        "id": "iRiVheWu8tlu"
      }
    },
    {
      "cell_type": "code",
      "source": [
        "import torch\n",
        "import torch.nn as nn\n",
        "import random\n",
        "import numpy as np\n",
        "import matplotlib.pyplot as plt\n",
        "\n",
        "os.environ[\"TOKENIZERS_PARALLELISM\"] = \"false\"\n",
        "os.environ[\"CUDA_DEVICE_ORDER\"]=\"PCI_BUS_ID\"  # Arrange GPU devices starting from 0\n",
        "os.environ[\"CUDA_VISIBLE_DEVICES\"]= \"2\"  # Set the GPU 2 to use, 멀티 gpu\n",
        "device = torch.device('cuda') if torch.cuda.is_available() else torch.device('cpu')\n",
        "\n",
        "CFG = {\n",
        "    'IMG_SIZE':128, #이미지 사이즈\n",
        "    'EPOCHS':50, #에포크\n",
        "    'LEARNING_RATE':2e-2, #학습률\n",
        "    'BATCH_SIZE':12, #배치사이즈\n",
        "    'SEED':41, #시드\n",
        "}\n",
        "\n",
        "def seed_everything(seed):\n",
        "    random.seed(seed)\n",
        "    os.environ['PYTHONHASHSEED'] = str(seed)\n",
        "    np.random.seed(seed)\n",
        "    torch.manual_seed(seed)\n",
        "    torch.cuda.manual_seed(seed)\n",
        "    torch.backends.cudnn.deterministic = True\n",
        "    torch.backends.cudnn.benchmark = True\n",
        "\n",
        "seed_everything(CFG['SEED'])"
      ],
      "metadata": {
        "id": "lIgCM3Vy8pMY"
      },
      "execution_count": null,
      "outputs": []
    },
    {
      "cell_type": "markdown",
      "source": [
        "# 3. 데이터 전처리"
      ],
      "metadata": {
        "id": "1Wm42of69K9l"
      }
    },
    {
      "cell_type": "code",
      "source": [
        "import torchvision.datasets as datasets # 이미지 데이터셋 집합체\n",
        "import torchvision.transforms as transforms # 이미지 변환 툴\n",
        "\n",
        "from torch.utils.data import DataLoader # 학습 및 배치로 모델에 넣어주기 위한 툴\n",
        "from torch.utils.data import Dataset\n",
        "\n",
        "from sklearn.model_selection import train_test_split\n",
        "import cv2\n",
        "\n",
        "class CustomDataset(Dataset):\n",
        "    def __init__(self, img_path_list, label_list, train_mode=True, transforms=None): #필요한 변수들을 선언\n",
        "        self.transforms = transforms\n",
        "        self.train_mode = train_mode\n",
        "        self.img_path_list = img_path_list\n",
        "        self.label_list = label_list\n",
        "\n",
        "    def __getitem__(self, index): #index번째 data를 return\n",
        "        img_path = self.img_path_list[index]\n",
        "        #print(img_path)\n",
        "        image = cv2.imread(img_path)\n",
        "        if self.transforms is not None:\n",
        "            image = self.transforms(image)\n",
        "\n",
        "        if self.train_mode:\n",
        "            label = self.label_list[index]\n",
        "            return image, label\n",
        "        else:\n",
        "            return image\n",
        "    \n",
        "    def __len__(self): #길이 return\n",
        "        return len(self.img_path_list)\n",
        "        \n",
        "train_transform = transforms.Compose([\n",
        "    transforms.ToPILImage(), #Numpy배열에서 PIL이미지로\n",
        "    transforms.Resize([CFG['IMG_SIZE'], CFG['IMG_SIZE']]), #이미지 사이즈 변형\n",
        "    transforms.ToTensor(), #이미지 데이터를 tensor\n",
        "    transforms.Normalize(mean=(0.5, 0.5, 0.5), std=(0.5, 0.5, 0.5)) #이미지 정규화\n",
        "    ])\n",
        "\n",
        "test_transform = transforms.Compose([\n",
        "    transforms.ToPILImage(),\n",
        "    transforms.Resize([CFG['IMG_SIZE'], CFG['IMG_SIZE']]),\n",
        "    transforms.ToTensor(),\n",
        "    transforms.Normalize(mean=(0.5, 0.5, 0.5), std=(0.5, 0.5, 0.5))\n",
        "    ])\n"
      ],
      "metadata": {
        "id": "ZUqyCVQK74WR"
      },
      "execution_count": null,
      "outputs": []
    },
    {
      "cell_type": "code",
      "source": [
        "x_train, x_test, y_train, y_test = train_test_split(all_img_path, \n",
        "                                                    all_label, \n",
        "                                                    test_size=0.25, \n",
        "                                                    random_state=42)\n",
        "\n",
        "train_dataset = CustomDataset(x_train, y_train, train_mode=True, transforms=train_transform) \n",
        "train_loader = DataLoader(train_dataset, batch_size = CFG['BATCH_SIZE'], shuffle=True, num_workers=0)\n",
        "\n",
        "vali_dataset = CustomDataset(x_test, y_test, train_mode=True, transforms=test_transform)\n",
        "vali_loader = DataLoader(vali_dataset, batch_size = CFG['BATCH_SIZE'], shuffle=False, num_workers=0)"
      ],
      "metadata": {
        "id": "YfjO5ara92a7"
      },
      "execution_count": null,
      "outputs": []
    },
    {
      "cell_type": "markdown",
      "source": [
        "# 3. 모델링"
      ],
      "metadata": {
        "id": "wqSBQ-1zDPLa"
      }
    },
    {
      "cell_type": "code",
      "source": [
        "import torch.nn as nn\n",
        "import torch.optim as optim\n",
        "from tqdm import tqdm\n",
        "\n",
        "class CNNclassification(torch.nn.Module):\n",
        "    def __init__(self):\n",
        "        super(CNNclassification, self).__init__()\n",
        "        self.layer1 = torch.nn.Sequential(\n",
        "            nn.Conv2d(3, 8, kernel_size=3, stride=1, padding=1), #cnn layer\n",
        "            nn.ReLU(), #activation function\n",
        "            nn.MaxPool2d(kernel_size=2, stride=2)) #pooling layer\n",
        "        \n",
        "        self.layer2 = torch.nn.Sequential(\n",
        "            nn.Conv2d(8, 16, kernel_size=3, stride=1, padding=1), #cnn layer\n",
        "            nn.ReLU(), #activation function\n",
        "            nn.MaxPool2d(kernel_size=2, stride=2)) #pooling layer\n",
        "        \n",
        "        self.layer3 = torch.nn.Sequential(\n",
        "            nn.Conv2d(16, 32, kernel_size=3, stride=1, padding=1), #cnn layer\n",
        "            nn.ReLU(), #activation function\n",
        "            nn.MaxPool2d(kernel_size=2, stride=2)) #pooling layer\n",
        "        \n",
        "        self.layer4 = torch.nn.Sequential(\n",
        "            nn.Conv2d(32, 64, kernel_size=4, stride=1, padding=1), #cnn layer\n",
        "            nn.ReLU(), #activation function\n",
        "            nn.MaxPool2d(kernel_size=2, stride=2)) #pooling layer\n",
        "        \n",
        "        self.fc_layer = nn.Sequential( \n",
        "            nn.Linear(3136, 10) #fully connected layer(ouput layer)\n",
        "        )    \n",
        "        \n",
        "    def forward(self, x):\n",
        "        x = self.layer1(x) #1층\n",
        "        x = self.layer2(x) #2층\n",
        "        x = self.layer3(x) #3층\n",
        "        x = self.layer4(x) #4층\n",
        "        x = torch.flatten(x, start_dim=1) # N차원 배열 -> 1차원 배열\n",
        "        out = self.fc_layer(x)\n",
        "        return out\n",
        "\n",
        "model = CNNclassification().to(device)\n",
        "criterion = torch.nn.CrossEntropyLoss()\n",
        "optimizer = torch.optim.Adam(params = model.parameters(), lr = CFG[\"LEARNING_RATE\"])\n",
        "scheduler = None\n",
        "\n",
        "def train(model, optimizer, train_loader, scheduler, device): \n",
        "    model.to(device)\n",
        "    n = len(train_loader)\n",
        "    best_acc = 0\n",
        "    for epoch in range(1,CFG[\"EPOCHS\"]+1): #에포크 설정\n",
        "        model.train() #모델 학습\n",
        "        running_loss = 0.0\n",
        "        for img, label in tqdm(iter(train_loader)):\n",
        "            model.to(device)\n",
        "            optimizer.zero_grad() #배치마다 optimizer 초기화\n",
        "            logit = model(img) #예측값 산출\n",
        "            loss = criterion(logit, label) #손실함수 계산\n",
        "            loss.backward() #손실함수 기준 역전파 \n",
        "            optimizer.step() #가중치 최적화\n",
        "            running_loss += loss.item()\n",
        "\n",
        "        print('[%d] Train loss: %.10f' %(epoch, running_loss / len(train_loader)))\n",
        "        if scheduler is not None:\n",
        "            scheduler.step()\n",
        "            \n",
        "        #Validation set 평가\n",
        "        model.eval() #evaluation 과정에서 사용하지 않아야 하는 layer들을 알아서 off 시키도록 하는 함수\n",
        "        vali_loss = 0.0\n",
        "        correct = 0\n",
        "        with torch.no_grad(): #파라미터 업데이트 안하기 때문에 no_grad 사용\n",
        "            for img, label in tqdm(iter(vali_loader)):\n",
        "                img, label = img.to(device), label.to(device)\n",
        "                logit = model(img)\n",
        "                vali_loss += criterion(logit, label)\n",
        "                pred = logit.argmax(dim=1, keepdim=True)  #11개의 class중 가장 값이 높은 것을 예측 label로 추출\n",
        "                correct += pred.eq(label.view_as(pred)).sum().item() #예측값과 실제값이 맞으면 1 아니면 0으로 합산\n",
        "        vali_acc = 100 * correct / len(vali_loader.dataset)\n",
        "        print('Vail set: Loss: {:.4f}, Accuracy: {}/{} ( {:.0f}%)\\n'.format(vali_loss / len(vali_loader), correct, len(vali_loader.dataset), 100 * correct / len(vali_loader.dataset)))\n",
        "        \n",
        "        #베스트 모델 저장\n",
        "        if best_acc < vali_acc:\n",
        "            best_acc = vali_acc\n",
        "            torch.save(model.state_dict(), 'dataset/save/best_model.pth') #이 디렉토리에 best_model.pth을 저장\n",
        "            print('Model Saved.')\n",
        "\n",
        "train(model, optimizer, train_loader, scheduler, device)"
      ],
      "metadata": {
        "id": "kTnpo6hlC0US"
      },
      "execution_count": null,
      "outputs": []
    },
    {
      "cell_type": "code",
      "source": [
        "def predict(model, test_loader, device):\n",
        "    model.eval()\n",
        "    model_pred = []\n",
        "    with torch.no_grad():\n",
        "        for img in tqdm(iter(test_loader)):\n",
        "            img = img.to(device)\n",
        "            pred_logit = model(img)\n",
        "            pred_logit = pred_logit.argmax(dim=1, keepdim=True).squeeze(1)\n",
        "            model_pred.extend(pred_logit.tolist())\n",
        "    return model_pred\n",
        "\n",
        "test_dataset = CustomDataset(test_img_path, None, train_mode=False, transforms=test_transform)\n",
        "test_loader = DataLoader(test_dataset, batch_size = CFG['BATCH_SIZE'], shuffle=False, num_workers=0)\n",
        "\n",
        "# Validation Accuracy가 가장 뛰어난 모델을 불러옵니다.\n",
        "checkpoint = torch.load('dataset/save/best_model.pth')\n",
        "model=CNNclassification().to(device)\n",
        "model.load_state_dict(checkpoint)\n",
        "\n",
        "# Inference\n",
        "preds = predict(model, test_loader, device)\n",
        "preds[0:5]"
      ],
      "metadata": {
        "id": "y_ipUa4IDbfT"
      },
      "execution_count": null,
      "outputs": []
    },
    {
      "cell_type": "code",
      "source": [
        "submission = pd.read_csv('dataset/sample_submission.csv')\n",
        "submission['label'] = preds\n",
        "submission.head()\n",
        "submission.to_csv('./dataset/save/submission1.csv', index=False)"
      ],
      "metadata": {
        "id": "nZ2YxiadLUGl"
      },
      "execution_count": null,
      "outputs": []
    },
    {
      "cell_type": "code",
      "source": [],
      "metadata": {
        "id": "7N1fXZ1fMjPP"
      },
      "execution_count": null,
      "outputs": []
    }
  ]
}