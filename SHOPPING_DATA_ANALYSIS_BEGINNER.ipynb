{
  "cells": [
    {
      "cell_type": "markdown",
      "metadata": {
        "id": "view-in-github",
        "colab_type": "text"
      },
      "source": [
        "<a href=\"https://colab.research.google.com/github/jodog0412/DACON/blob/main/SHOPPING_DATA_ANALYSIS_BEGINNER.ipynb\" target=\"_parent\"><img src=\"https://colab.research.google.com/assets/colab-badge.svg\" alt=\"Open In Colab\"/></a>"
      ]
    },
    {
      "cell_type": "code",
      "source": [
        "from google.colab import drive\n",
        "drive.mount('/content/drive')\n",
        "%cd /content/drive/MyDrive/Colab\n",
        "!ls"
      ],
      "metadata": {
        "colab": {
          "base_uri": "https://localhost:8080/"
        },
        "id": "u7hjL0hXYv4o",
        "outputId": "9b1508b9-ed89-4738-d4e6-f59d267ceb3a"
      },
      "id": "u7hjL0hXYv4o",
      "execution_count": null,
      "outputs": [
        {
          "output_type": "stream",
          "name": "stdout",
          "text": [
            "Drive already mounted at /content/drive; to attempt to forcibly remount, call drive.mount(\"/content/drive\", force_remount=True).\n",
            "/content/drive/MyDrive/Colab\n",
            "'[Baseline]_1. 데이터 분석 입문자를 위한 데이터 분석 & 예측.ipynb'\n",
            "'[Baseline]_2. 랜덤 포레스트를 사용한 데이터 분석 & 예측.ipynb'\n",
            " dataset\n",
            " SHOPPING_DATA_ANALYSIS_BEGINNER.ipynb\n"
          ]
        }
      ]
    },
    {
      "cell_type": "code",
      "source": [
        ""
      ],
      "metadata": {
        "id": "twejHi2ylmNq"
      },
      "id": "twejHi2ylmNq",
      "execution_count": null,
      "outputs": []
    },
    {
      "cell_type": "markdown",
      "source": [
        "# 데이터 로드"
      ],
      "metadata": {
        "id": "v_-3aPZfjX-n"
      },
      "id": "v_-3aPZfjX-n"
    },
    {
      "cell_type": "code",
      "execution_count": null,
      "id": "50837668",
      "metadata": {
        "id": "50837668"
      },
      "outputs": [],
      "source": [
        "import pandas as pd\n",
        "import numpy as np\n",
        "\n",
        "# 데이터 로드\n",
        "train = pd.read_csv('./dataset/train.csv')\n",
        "test = pd.read_csv('./dataset/test.csv')\n",
        "sample_submission = pd.read_csv('./dataset/sample_submission.csv')\n"
      ]
    },
    {
      "cell_type": "markdown",
      "source": [
        "# 전처리"
      ],
      "metadata": {
        "id": "qk2xh4dXi-fp"
      },
      "id": "qk2xh4dXi-fp"
    },
    {
      "cell_type": "markdown",
      "source": [
        "## train 전처리"
      ],
      "metadata": {
        "id": "bdNRk6LGkotH"
      },
      "id": "bdNRk6LGkotH"
    },
    {
      "cell_type": "code",
      "source": [
        "# 결측치 처리\n",
        "train=train.fillna(0)\n",
        "\n",
        "# Date 전처리\n",
        "def date_encoder(date):\n",
        "    day, month, year = map(int, date.split('/'))\n",
        "    return day, month, year\n",
        "train['Month'] = train['Date'].apply(lambda x: date_encoder(x)[1])\n",
        "train['Year'] = train['Date'].apply(lambda x: date_encoder(x)[2])\n",
        "# isHoliday column에서의 true, false는 1과 0으로 자동처리됨.\n",
        "\n",
        "from sklearn.preprocessing import StandardScaler\n",
        "\n",
        "# 정규화\n",
        "scaler = StandardScaler()\n",
        "scaler.fit(train[['Promotion1',\n",
        "                  'Promotion2',\n",
        "                  'Promotion3',\n",
        "                  'Promotion4',\n",
        "                  'Promotion5']])\n",
        "scaled = scaler.transform(train[['Promotion1',\n",
        "                                 'Promotion2',\n",
        "                                 'Promotion3',\n",
        "                                 'Promotion4',\n",
        "                                 'Promotion5']])\n",
        "train[['Scaled_Promotion1','Scaled_Promotion2',\n",
        "       'Scaled_Promotion3','Scaled_Promotion4',\n",
        "       'Scaled_Promotion5']] = scaled\n",
        "\n",
        "# 분석할 의미가 없는 칼럼을 제거합니다.\n",
        "x_train = train.drop(columns=['id','Date','Weekly_Sales'])\n",
        "x_train = x_train.drop(columns=['Promotion1',\n",
        "                                'Promotion2',\n",
        "                                'Promotion3',\n",
        "                                'Promotion4',\n",
        "                                'Promotion5'])\n",
        "y_train = train[['Weekly_Sales']]\n",
        "x_train.info()"
      ],
      "metadata": {
        "colab": {
          "base_uri": "https://localhost:8080/"
        },
        "id": "Dwj8ZUbYiNEc",
        "outputId": "cfa9e8ae-8ddd-4bf8-d4b5-cd151ff1a5ef"
      },
      "id": "Dwj8ZUbYiNEc",
      "execution_count": null,
      "outputs": [
        {
          "output_type": "stream",
          "name": "stdout",
          "text": [
            "<class 'pandas.core.frame.DataFrame'>\n",
            "RangeIndex: 6255 entries, 0 to 6254\n",
            "Data columns (total 12 columns):\n",
            " #   Column             Non-Null Count  Dtype  \n",
            "---  ------             --------------  -----  \n",
            " 0   Store              6255 non-null   int64  \n",
            " 1   Temperature        6255 non-null   float64\n",
            " 2   Fuel_Price         6255 non-null   float64\n",
            " 3   Unemployment       6255 non-null   float64\n",
            " 4   IsHoliday          6255 non-null   bool   \n",
            " 5   Month              6255 non-null   int64  \n",
            " 6   Year               6255 non-null   int64  \n",
            " 7   Scaled_Promotion1  6255 non-null   float64\n",
            " 8   Scaled_Promotion2  6255 non-null   float64\n",
            " 9   Scaled_Promotion3  6255 non-null   float64\n",
            " 10  Scaled_Promotion4  6255 non-null   float64\n",
            " 11  Scaled_Promotion5  6255 non-null   float64\n",
            "dtypes: bool(1), float64(8), int64(3)\n",
            "memory usage: 543.8 KB\n"
          ]
        }
      ]
    },
    {
      "cell_type": "markdown",
      "source": [
        "## test 전처리"
      ],
      "metadata": {
        "id": "aFW6AgT6kixo"
      },
      "id": "aFW6AgT6kixo"
    },
    {
      "cell_type": "code",
      "source": [
        "# 결측치 처리\n",
        "test = test.fillna(0)\n",
        "# Date 전처리\n",
        "test['Month'] = test['Date'].apply(lambda x: date_encoder(x)[1])\n",
        "test['Year'] = test['Date'].apply(lambda x: date_encoder(x)[2])\n",
        "# 정규화\n",
        "scaled = scaler.transform(test[['Promotion1','Promotion2','Promotion3','Promotion4','Promotion5']])\n",
        "test[['Scaled_Promotion1','Scaled_Promotion2',\n",
        "       'Scaled_Promotion3','Scaled_Promotion4',\n",
        "       'Scaled_Promotion5']] = scaled\n",
        "test = test.drop(columns=['Promotion1','Promotion2','Promotion3','Promotion4','Promotion5'])\n",
        "test = test.drop(columns=['id','Date'])\n",
        "test"
      ],
      "metadata": {
        "colab": {
          "base_uri": "https://localhost:8080/",
          "height": 488
        },
        "id": "UGzGSC2bkjra",
        "outputId": "fa7786c5-ac96-427f-aeb9-7ba8899fa387"
      },
      "id": "UGzGSC2bkjra",
      "execution_count": null,
      "outputs": [
        {
          "output_type": "execute_result",
          "data": {
            "text/plain": [
              "     Store  Temperature  Fuel_Price  Unemployment  IsHoliday  Month  Year  \\\n",
              "0        1        68.55       3.617         6.573      False     10  2012   \n",
              "1        1        62.99       3.601         6.573      False     10  2012   \n",
              "2        1        67.97       3.594         6.573      False     10  2012   \n",
              "3        1        69.16       3.506         6.573      False     10  2012   \n",
              "4        2        70.27       3.617         6.170      False     10  2012   \n",
              "..     ...          ...         ...           ...        ...    ...   ...   \n",
              "175     44        46.97       3.755         5.217      False     10  2012   \n",
              "176     45        64.89       3.985         8.667      False     10  2012   \n",
              "177     45        54.47       4.000         8.667      False     10  2012   \n",
              "178     45        56.47       3.969         8.667      False     10  2012   \n",
              "179     45        58.85       3.882         8.667      False     10  2012   \n",
              "\n",
              "     Scaled_Promotion1  Scaled_Promotion2  Scaled_Promotion3  \\\n",
              "0             0.956583          -0.170211          -0.079007   \n",
              "1            -0.053718          -0.170211          -0.080897   \n",
              "2            -0.245241          -0.170211          -0.081492   \n",
              "3             0.030535          -0.163792          -0.081292   \n",
              "4             0.612584          -0.170211          -0.080536   \n",
              "..                 ...                ...                ...   \n",
              "175          -0.398965          -0.169683          -0.082230   \n",
              "176           0.445482          -0.170211          -0.078895   \n",
              "177          -0.075621          -0.170211          -0.080938   \n",
              "178          -0.067571          -0.170211          -0.081819   \n",
              "179           0.272172          -0.158469          -0.063715   \n",
              "\n",
              "     Scaled_Promotion4  Scaled_Promotion5  \n",
              "0             0.686920           0.509844  \n",
              "1            -0.106760           1.068815  \n",
              "2            -0.244199           0.190716  \n",
              "3             0.012961          -0.054187  \n",
              "4             0.531594           0.565067  \n",
              "..                 ...                ...  \n",
              "175          -0.265323          -0.260073  \n",
              "176           0.327864           0.197316  \n",
              "177          -0.107560           0.598392  \n",
              "178          -0.150097           0.002305  \n",
              "179          -0.209533          -0.162730  \n",
              "\n",
              "[180 rows x 12 columns]"
            ],
            "text/html": [
              "\n",
              "  <div id=\"df-4b46a84a-c161-4f66-848b-55e3b0fcdc7f\">\n",
              "    <div class=\"colab-df-container\">\n",
              "      <div>\n",
              "<style scoped>\n",
              "    .dataframe tbody tr th:only-of-type {\n",
              "        vertical-align: middle;\n",
              "    }\n",
              "\n",
              "    .dataframe tbody tr th {\n",
              "        vertical-align: top;\n",
              "    }\n",
              "\n",
              "    .dataframe thead th {\n",
              "        text-align: right;\n",
              "    }\n",
              "</style>\n",
              "<table border=\"1\" class=\"dataframe\">\n",
              "  <thead>\n",
              "    <tr style=\"text-align: right;\">\n",
              "      <th></th>\n",
              "      <th>Store</th>\n",
              "      <th>Temperature</th>\n",
              "      <th>Fuel_Price</th>\n",
              "      <th>Unemployment</th>\n",
              "      <th>IsHoliday</th>\n",
              "      <th>Month</th>\n",
              "      <th>Year</th>\n",
              "      <th>Scaled_Promotion1</th>\n",
              "      <th>Scaled_Promotion2</th>\n",
              "      <th>Scaled_Promotion3</th>\n",
              "      <th>Scaled_Promotion4</th>\n",
              "      <th>Scaled_Promotion5</th>\n",
              "    </tr>\n",
              "  </thead>\n",
              "  <tbody>\n",
              "    <tr>\n",
              "      <th>0</th>\n",
              "      <td>1</td>\n",
              "      <td>68.55</td>\n",
              "      <td>3.617</td>\n",
              "      <td>6.573</td>\n",
              "      <td>False</td>\n",
              "      <td>10</td>\n",
              "      <td>2012</td>\n",
              "      <td>0.956583</td>\n",
              "      <td>-0.170211</td>\n",
              "      <td>-0.079007</td>\n",
              "      <td>0.686920</td>\n",
              "      <td>0.509844</td>\n",
              "    </tr>\n",
              "    <tr>\n",
              "      <th>1</th>\n",
              "      <td>1</td>\n",
              "      <td>62.99</td>\n",
              "      <td>3.601</td>\n",
              "      <td>6.573</td>\n",
              "      <td>False</td>\n",
              "      <td>10</td>\n",
              "      <td>2012</td>\n",
              "      <td>-0.053718</td>\n",
              "      <td>-0.170211</td>\n",
              "      <td>-0.080897</td>\n",
              "      <td>-0.106760</td>\n",
              "      <td>1.068815</td>\n",
              "    </tr>\n",
              "    <tr>\n",
              "      <th>2</th>\n",
              "      <td>1</td>\n",
              "      <td>67.97</td>\n",
              "      <td>3.594</td>\n",
              "      <td>6.573</td>\n",
              "      <td>False</td>\n",
              "      <td>10</td>\n",
              "      <td>2012</td>\n",
              "      <td>-0.245241</td>\n",
              "      <td>-0.170211</td>\n",
              "      <td>-0.081492</td>\n",
              "      <td>-0.244199</td>\n",
              "      <td>0.190716</td>\n",
              "    </tr>\n",
              "    <tr>\n",
              "      <th>3</th>\n",
              "      <td>1</td>\n",
              "      <td>69.16</td>\n",
              "      <td>3.506</td>\n",
              "      <td>6.573</td>\n",
              "      <td>False</td>\n",
              "      <td>10</td>\n",
              "      <td>2012</td>\n",
              "      <td>0.030535</td>\n",
              "      <td>-0.163792</td>\n",
              "      <td>-0.081292</td>\n",
              "      <td>0.012961</td>\n",
              "      <td>-0.054187</td>\n",
              "    </tr>\n",
              "    <tr>\n",
              "      <th>4</th>\n",
              "      <td>2</td>\n",
              "      <td>70.27</td>\n",
              "      <td>3.617</td>\n",
              "      <td>6.170</td>\n",
              "      <td>False</td>\n",
              "      <td>10</td>\n",
              "      <td>2012</td>\n",
              "      <td>0.612584</td>\n",
              "      <td>-0.170211</td>\n",
              "      <td>-0.080536</td>\n",
              "      <td>0.531594</td>\n",
              "      <td>0.565067</td>\n",
              "    </tr>\n",
              "    <tr>\n",
              "      <th>...</th>\n",
              "      <td>...</td>\n",
              "      <td>...</td>\n",
              "      <td>...</td>\n",
              "      <td>...</td>\n",
              "      <td>...</td>\n",
              "      <td>...</td>\n",
              "      <td>...</td>\n",
              "      <td>...</td>\n",
              "      <td>...</td>\n",
              "      <td>...</td>\n",
              "      <td>...</td>\n",
              "      <td>...</td>\n",
              "    </tr>\n",
              "    <tr>\n",
              "      <th>175</th>\n",
              "      <td>44</td>\n",
              "      <td>46.97</td>\n",
              "      <td>3.755</td>\n",
              "      <td>5.217</td>\n",
              "      <td>False</td>\n",
              "      <td>10</td>\n",
              "      <td>2012</td>\n",
              "      <td>-0.398965</td>\n",
              "      <td>-0.169683</td>\n",
              "      <td>-0.082230</td>\n",
              "      <td>-0.265323</td>\n",
              "      <td>-0.260073</td>\n",
              "    </tr>\n",
              "    <tr>\n",
              "      <th>176</th>\n",
              "      <td>45</td>\n",
              "      <td>64.89</td>\n",
              "      <td>3.985</td>\n",
              "      <td>8.667</td>\n",
              "      <td>False</td>\n",
              "      <td>10</td>\n",
              "      <td>2012</td>\n",
              "      <td>0.445482</td>\n",
              "      <td>-0.170211</td>\n",
              "      <td>-0.078895</td>\n",
              "      <td>0.327864</td>\n",
              "      <td>0.197316</td>\n",
              "    </tr>\n",
              "    <tr>\n",
              "      <th>177</th>\n",
              "      <td>45</td>\n",
              "      <td>54.47</td>\n",
              "      <td>4.000</td>\n",
              "      <td>8.667</td>\n",
              "      <td>False</td>\n",
              "      <td>10</td>\n",
              "      <td>2012</td>\n",
              "      <td>-0.075621</td>\n",
              "      <td>-0.170211</td>\n",
              "      <td>-0.080938</td>\n",
              "      <td>-0.107560</td>\n",
              "      <td>0.598392</td>\n",
              "    </tr>\n",
              "    <tr>\n",
              "      <th>178</th>\n",
              "      <td>45</td>\n",
              "      <td>56.47</td>\n",
              "      <td>3.969</td>\n",
              "      <td>8.667</td>\n",
              "      <td>False</td>\n",
              "      <td>10</td>\n",
              "      <td>2012</td>\n",
              "      <td>-0.067571</td>\n",
              "      <td>-0.170211</td>\n",
              "      <td>-0.081819</td>\n",
              "      <td>-0.150097</td>\n",
              "      <td>0.002305</td>\n",
              "    </tr>\n",
              "    <tr>\n",
              "      <th>179</th>\n",
              "      <td>45</td>\n",
              "      <td>58.85</td>\n",
              "      <td>3.882</td>\n",
              "      <td>8.667</td>\n",
              "      <td>False</td>\n",
              "      <td>10</td>\n",
              "      <td>2012</td>\n",
              "      <td>0.272172</td>\n",
              "      <td>-0.158469</td>\n",
              "      <td>-0.063715</td>\n",
              "      <td>-0.209533</td>\n",
              "      <td>-0.162730</td>\n",
              "    </tr>\n",
              "  </tbody>\n",
              "</table>\n",
              "<p>180 rows × 12 columns</p>\n",
              "</div>\n",
              "      <button class=\"colab-df-convert\" onclick=\"convertToInteractive('df-4b46a84a-c161-4f66-848b-55e3b0fcdc7f')\"\n",
              "              title=\"Convert this dataframe to an interactive table.\"\n",
              "              style=\"display:none;\">\n",
              "        \n",
              "  <svg xmlns=\"http://www.w3.org/2000/svg\" height=\"24px\"viewBox=\"0 0 24 24\"\n",
              "       width=\"24px\">\n",
              "    <path d=\"M0 0h24v24H0V0z\" fill=\"none\"/>\n",
              "    <path d=\"M18.56 5.44l.94 2.06.94-2.06 2.06-.94-2.06-.94-.94-2.06-.94 2.06-2.06.94zm-11 1L8.5 8.5l.94-2.06 2.06-.94-2.06-.94L8.5 2.5l-.94 2.06-2.06.94zm10 10l.94 2.06.94-2.06 2.06-.94-2.06-.94-.94-2.06-.94 2.06-2.06.94z\"/><path d=\"M17.41 7.96l-1.37-1.37c-.4-.4-.92-.59-1.43-.59-.52 0-1.04.2-1.43.59L10.3 9.45l-7.72 7.72c-.78.78-.78 2.05 0 2.83L4 21.41c.39.39.9.59 1.41.59.51 0 1.02-.2 1.41-.59l7.78-7.78 2.81-2.81c.8-.78.8-2.07 0-2.86zM5.41 20L4 18.59l7.72-7.72 1.47 1.35L5.41 20z\"/>\n",
              "  </svg>\n",
              "      </button>\n",
              "      \n",
              "  <style>\n",
              "    .colab-df-container {\n",
              "      display:flex;\n",
              "      flex-wrap:wrap;\n",
              "      gap: 12px;\n",
              "    }\n",
              "\n",
              "    .colab-df-convert {\n",
              "      background-color: #E8F0FE;\n",
              "      border: none;\n",
              "      border-radius: 50%;\n",
              "      cursor: pointer;\n",
              "      display: none;\n",
              "      fill: #1967D2;\n",
              "      height: 32px;\n",
              "      padding: 0 0 0 0;\n",
              "      width: 32px;\n",
              "    }\n",
              "\n",
              "    .colab-df-convert:hover {\n",
              "      background-color: #E2EBFA;\n",
              "      box-shadow: 0px 1px 2px rgba(60, 64, 67, 0.3), 0px 1px 3px 1px rgba(60, 64, 67, 0.15);\n",
              "      fill: #174EA6;\n",
              "    }\n",
              "\n",
              "    [theme=dark] .colab-df-convert {\n",
              "      background-color: #3B4455;\n",
              "      fill: #D2E3FC;\n",
              "    }\n",
              "\n",
              "    [theme=dark] .colab-df-convert:hover {\n",
              "      background-color: #434B5C;\n",
              "      box-shadow: 0px 1px 3px 1px rgba(0, 0, 0, 0.15);\n",
              "      filter: drop-shadow(0px 1px 2px rgba(0, 0, 0, 0.3));\n",
              "      fill: #FFFFFF;\n",
              "    }\n",
              "  </style>\n",
              "\n",
              "      <script>\n",
              "        const buttonEl =\n",
              "          document.querySelector('#df-4b46a84a-c161-4f66-848b-55e3b0fcdc7f button.colab-df-convert');\n",
              "        buttonEl.style.display =\n",
              "          google.colab.kernel.accessAllowed ? 'block' : 'none';\n",
              "\n",
              "        async function convertToInteractive(key) {\n",
              "          const element = document.querySelector('#df-4b46a84a-c161-4f66-848b-55e3b0fcdc7f');\n",
              "          const dataTable =\n",
              "            await google.colab.kernel.invokeFunction('convertToInteractive',\n",
              "                                                     [key], {});\n",
              "          if (!dataTable) return;\n",
              "\n",
              "          const docLinkHtml = 'Like what you see? Visit the ' +\n",
              "            '<a target=\"_blank\" href=https://colab.research.google.com/notebooks/data_table.ipynb>data table notebook</a>'\n",
              "            + ' to learn more about interactive tables.';\n",
              "          element.innerHTML = '';\n",
              "          dataTable['output_type'] = 'display_data';\n",
              "          await google.colab.output.renderOutput(dataTable, element);\n",
              "          const docLink = document.createElement('div');\n",
              "          docLink.innerHTML = docLinkHtml;\n",
              "          element.appendChild(docLink);\n",
              "        }\n",
              "      </script>\n",
              "    </div>\n",
              "  </div>\n",
              "  "
            ]
          },
          "metadata": {},
          "execution_count": 27
        }
      ]
    },
    {
      "cell_type": "markdown",
      "source": [
        "# 딥러닝"
      ],
      "metadata": {
        "id": "BPtpSeIElWRe"
      },
      "id": "BPtpSeIElWRe"
    },
    {
      "cell_type": "code",
      "execution_count": null,
      "id": "1ff95547",
      "metadata": {
        "colab": {
          "base_uri": "https://localhost:8080/"
        },
        "id": "1ff95547",
        "outputId": "c5cbe195-ca45-4a74-945b-f12d6a5eb46f"
      },
      "outputs": [
        {
          "output_type": "stream",
          "name": "stdout",
          "text": [
            "tensor([[1047619.1875],\n",
            "        [1047619.1875],\n",
            "        [1047619.1875],\n",
            "        [1047619.1875],\n",
            "        [1047619.1875],\n",
            "        [1047619.1875],\n",
            "        [1047619.1875],\n",
            "        [1047619.1875],\n",
            "        [1047619.1875],\n",
            "        [1047619.1875]], grad_fn=<SliceBackward0>)\n"
          ]
        }
      ],
      "source": [
        "import torch\n",
        "import torch.nn as nn\n",
        "import torch.nn.functional as F\n",
        "torch.manual_seed(1)\n",
        "\n",
        "# model = nn.Sequential(\n",
        "#     nn.Linear(12, 24), # input_layer = 12, hidden_layer1 = 24\n",
        "#     nn.ReLU(),\n",
        "#     nn.Linear(24, 12), # hidden_layer1 = 24, hidden_layer2 = 12\n",
        "#     nn.ReLU(),\n",
        "#     nn.Linear(12, 6), # hidden_layer2 = 12, hidden_layer3 = 6\n",
        "#     nn.ReLU(),\n",
        "#     nn.Linear(6, 3), # hidden_layer4 = 6, hidden_layer3 = 3\n",
        "#     nn.ReLU(),\n",
        "#     nn.Linear(3, 1) # hidden_layer2 = 3, hidden_layer3 = 1\n",
        "# )\n",
        "x_train_val=np.vstack(x_train.values).astype(np.float64)\n",
        "y_train_val=np.vstack(y_train.values).astype(np.float64)\n",
        "X = torch.tensor(x_train_val)\n",
        "Y = torch.tensor(y_train_val)\n",
        "model=nn.Linear(12,1)\n",
        "optimizer = torch.optim.SGD(model.parameters(), lr=0.245e-6)\n",
        "losses = []\n",
        "epochs=25000\n",
        "torch.set_grad_enabled(True)\n",
        "for epoch in range(epochs+1):\n",
        "    y_pred = model(X.float()) \n",
        "    loss = F.mse_loss(y_pred, Y.float())\n",
        "    optimizer.zero_grad()\n",
        "    loss.backward()\n",
        "    optimizer.step()\n",
        "\n",
        "test_val=test.values.astype(np.float64)\n",
        "T=torch.tensor(test_val)\n",
        "model.eval()\n",
        "prediction=model(T.float())\n",
        "print(prediction[:10])"
      ]
    },
    {
      "cell_type": "code",
      "source": [
        "sample_submission['Weekly_Sales'] = prediction.detach().numpy()\n",
        "sample_submission.head()\n",
        "sample_submission.to_csv('submission.csv',index = False)"
      ],
      "metadata": {
        "id": "U8o0cAhjqAKv"
      },
      "id": "U8o0cAhjqAKv",
      "execution_count": null,
      "outputs": []
    },
    {
      "cell_type": "code",
      "source": [
        ""
      ],
      "metadata": {
        "id": "PtTr23CoqhqU"
      },
      "id": "PtTr23CoqhqU",
      "execution_count": null,
      "outputs": []
    },
    {
      "cell_type": "code",
      "execution_count": null,
      "id": "e40b49b0",
      "metadata": {
        "id": "e40b49b0"
      },
      "outputs": [],
      "source": [
        ""
      ]
    }
  ],
  "metadata": {
    "kernelspec": {
      "display_name": "Python 3 (ipykernel)",
      "language": "python",
      "name": "python3"
    },
    "language_info": {
      "codemirror_mode": {
        "name": "ipython",
        "version": 3
      },
      "file_extension": ".py",
      "mimetype": "text/x-python",
      "name": "python",
      "nbconvert_exporter": "python",
      "pygments_lexer": "ipython3",
      "version": "3.9.7"
    },
    "colab": {
      "name": "SHOPPING_DATA_ANALYSIS_BEGINNER.ipynb",
      "provenance": [],
      "collapsed_sections": [],
      "include_colab_link": true
    }
  },
  "nbformat": 4,
  "nbformat_minor": 5
}